{
 "cells": [
  {
   "cell_type": "markdown",
   "metadata": {},
   "source": [
    "## Anslysis"
   ]
  },
  {
   "cell_type": "markdown",
   "metadata": {},
   "source": [
    "### Setup"
   ]
  },
  {
   "cell_type": "code",
   "execution_count": 23,
   "metadata": {},
   "outputs": [],
   "source": [
    "import numpy as np\n",
    "\n",
    "old_man = {'visualization': [], 'predictions': [[{'keypoints': [[-0.0, 0.0, 0.8179692625999451], [0.040941040962934494, -0.1594102680683136, 0.8124692440032959], [-0.32493409514427185, -0.1813235878944397, 0.45961013436317444], [-0.2178007811307907, 0.0032552299089729786, 0.0], [-0.03069116175174713, 0.14929278194904327, 0.8236818909645081], [-0.3356389105319977, 0.27307724952697754, 0.47536134719848633], [-0.24962621927261353, 0.29814285039901733, 0.028932154178619385], [-0.2624133229255676, -0.038346219807863235, 0.9701371192932129], [-0.5357133746147156, -0.07428498566150665, 1.126444697380066], [-0.8047424554824829, -0.10607752203941345, 1.1905708312988281], [-0.8098866939544678, -0.11865619570016861, 1.2469738721847534], [-0.5398093461990356, 0.08987322449684143, 1.1279150247573853], [-0.6351518630981445, 0.13341031968593597, 0.7801660299301147], [-0.8164509534835815, 0.15955890715122223, 0.5260588526725769], [-0.5201144814491272, -0.24108636379241943, 1.1241424083709717], [-0.6209665536880493, -0.24187767505645752, 0.7656158804893494], [-0.825140118598938, -0.1752726286649704, 0.5066332817077637]], 'keypoint_scores': [1.0, 1.0, 1.0, 1.0, 1.0, 1.0, 1.0, 1.0, 1.0, 1.0, 1.0, 1.0, 1.0, 1.0, 1.0, 1.0, 1.0]}]]}\n",
    "rula_girl = {'visualization': [], 'predictions': [[{'keypoints': [[-0.0, 0.0, 0.6517458558082581], [0.07614172250032425, -0.1081618219614029, 0.6364327669143677], [0.049782346934080124, -0.0027257998008280993, 0.23980078101158142], [0.3146137595176697, 0.1263187825679779, 0.0], [-0.07397143542766571, 0.10070735216140747, 0.6663017868995667], [-0.24149340391159058, -0.03839167580008507, 0.33746349811553955], [-0.03865673765540123, 0.1364823430776596, 0.0161399245262146], [0.09974963217973709, 0.0024693498853594065, 0.8867586851119995], [0.19880396127700806, -0.03764152526855469, 1.1275575160980225], [0.18450647592544556, -0.09529012441635132, 1.3223800659179688], [0.21238988637924194, -0.05458226427435875, 1.3646093606948853], [0.10509240627288818, 0.0737433061003685, 1.1617043018341064], [-0.05830639600753784, 0.17740324139595032, 0.958266019821167], [-0.2155175805091858, 0.1719728261232376, 0.8138850331306458], [0.27859044075012207, -0.1607668250799179, 1.0724601745605469], [0.10511450469493866, -0.25507527589797974, 0.8391019105911255], [-0.13905346393585205, -0.1771010309457779, 0.766766369342804]], 'keypoint_scores': [1.0, 1.0, 1.0, 1.0, 1.0, 1.0, 1.0, 1.0, 1.0, 1.0, 1.0, 1.0, 1.0, 1.0, 1.0, 1.0, 1.0]}]]}\n",
    "twist_man = {'visualization': [], 'predictions': [[{'keypoints': [[-0.0, 0.0, 0.5965350270271301], [-0.013225464150309563, -0.03524736315011978, 0.5801234841346741], [0.019965698942542076, 0.1237436980009079, 0.9034652709960938], [-0.4038999080657959, 0.08539142459630966, 0.9361364841461182], [-0.020253174006938934, 0.013588806614279747, 0.5950923562049866], [-0.4128164052963257, 0.04800080507993698, 0.6288855075836182], [-0.6580683588981628, 0.148471862077713, 0.6138345003128052], [0.23250903189182281, 0.034474100917577744, 0.5072914361953735], [0.5397832989692688, 0.007643756922334433, 0.4224148988723755], [0.7389097809791565, 0.032805539667606354, 0.4168851375579834], [0.7812049388885498, 0.011421004310250282, 0.41643238067626953], [0.5409917831420898, 0.10848139226436615, 0.5776721835136414], [0.3279489278793335, 0.2026539146900177, 0.7265731692314148], [0.1488918513059616, 0.10576535016298294, 0.8981133699417114], [0.5439937114715576, -0.03958858177065849, 0.2742365598678589], [0.40374523401260376, -0.10856714844703674, 0.10285606980323792], [0.28070715069770813, -0.12312427163124084, 0.0]], 'keypoint_scores': [1.0, 1.0, 1.0, 1.0, 1.0, 1.0, 1.0, 1.0, 1.0, 1.0, 1.0, 1.0, 1.0, 1.0, 1.0, 1.0, 1.0]}]]}\n",
    "neck_down_boy = {'visualization': [], 'predictions': [[{'keypoints': [[-0.0, 0.0, 0.638992190361023], [0.0038354492280632257, 0.03543751686811447, 0.6511152386665344], [-0.04587939381599426, 0.18983827531337738, 0.3883732855319977], [-0.15735669434070587, 0.21256300806999207, 0.07268142700195312], [-0.006089843809604645, -0.05238470435142517, 0.646621823310852], [0.044288817793130875, -0.029755430296063423, 0.3637363314628601], [0.008460693061351776, 0.05485595390200615, 0.0], [-0.0006616211030632257, -0.044570352882146835, 0.8596000671386719], [0.012335449457168579, -0.09899047762155533, 1.0965590476989746], [0.1525288075208664, -0.11362214386463165, 1.1515741348266602], [0.16639293730258942, -0.14848367869853973, 1.204477071762085], [-0.05289672687649727, -0.15803442895412445, 1.1152122020721436], [-0.0788881853222847, -0.21241360902786255, 0.8716232776641846], [0.12547631561756134, -0.18860630691051483, 0.8517968654632568], [0.06272997707128525, -0.03962129354476929, 1.0983352661132812], [0.02568334899842739, 0.09761971980333328, 0.8868408203125], [0.15277624130249023, 0.039303794503211975, 0.8598610758781433]], 'keypoint_scores': [1.0, 1.0, 1.0, 1.0, 1.0, 1.0, 1.0, 1.0, 1.0, 1.0, 1.0, 1.0, 1.0, 1.0, 1.0, 1.0, 1.0]}]]}\n",
    "neck_backword_girl = {'visualization': [], 'predictions': [[{'keypoints': [[-0.0, 0.0, 0.28853198885917664], [-0.012156737968325615, -0.06469039618968964, 0.2873283624649048], [0.14254845678806305, 0.16475915908813477, 0.0], [-0.04848828166723251, 0.4087381362915039, 0.25718188285827637], [-0.01550122071057558, -0.08578966557979584, 0.28403162956237793], [-0.006938354577869177, 0.17217612266540527, 0.004051148891448975], [-0.05820532143115997, 0.41819247603416443, 0.2529980540275574], [0.012815185822546482, -0.01840805821120739, 0.6954208612442017], [0.045173097401857376, -0.0890304371714592, 1.1518042087554932], [0.00618066405877471, -0.09871410578489304, 1.6906216144561768], [0.07644006609916687, -0.10294189304113388, 1.7335739135742188], [0.0220791008323431, -0.06756886839866638, 1.17984139919281], [0.1702907681465149, -0.15695267915725708, 0.6737507581710815], [-0.11008483916521072, -0.18656191229820251, 0.33252331614494324], [0.07644360512495041, -0.05307573452591896, 1.1629098653793335], [0.24152123928070068, -0.13069051504135132, 0.676141619682312], [-0.015823975205421448, -0.20983271300792694, 0.2789919376373291]], 'keypoint_scores': [1.0, 1.0, 1.0, 1.0, 1.0, 1.0, 1.0, 1.0, 1.0, 1.0, 1.0, 1.0, 1.0, 1.0, 1.0, 1.0, 1.0]}]]}\n",
    "mppe_guy = {'visualization': [], 'predictions': [[{'keypoints': [[     112.65,      -937.1,      2411.8],\n",
    "       [     129.87,     -642.48,      2451.8],\n",
    "       [     34.564,     -658.15,      2528.7],\n",
    "       [     45.784,     -398.14,      2701.7],\n",
    "       [    -31.632,      -225.2,      2556.7],\n",
    "       [     221.89,     -621.27,      2345.6],\n",
    "       [     196.01,     -319.42,      2247.4],\n",
    "       [      1.489,     -201.44,      2273.6],\n",
    "       [     3.3313,     -90.725,      2594.7],\n",
    "       [     -63.62,      322.33,      2567.2],\n",
    "       [     187.16,      620.64,      2649.6],\n",
    "       [        145,     -84.028,      2402.5],\n",
    "       [     92.544,      333.61,      2438.4],\n",
    "       [     51.896,      771.34,      2438.8],\n",
    "       [     80.643,     -89.744,      2504.5],\n",
    "       [     113.02,     -382.97,      2501.2],\n",
    "       [     107.48,     -761.69,      2409.1],\n",
    "       [    -65.969,     -142.77,      2554.5],\n",
    "       [    -43.841,     -153.26,      2272.7],\n",
    "       [     126.46,      732.06,      2625.8],\n",
    "       [     -54.69,      842.24,      2407.2]] }]]}\n",
    "\n",
    "\n",
    "keypoints_names_old = [\n",
    "    'bottom_torso',  # 0\n",
    "    'left_hip',      # 1\n",
    "    'left_knee',     # 2\n",
    "    'left_foot',     # 3\n",
    "    'right_hip',     # 4\n",
    "    'right_knee',    # 5\n",
    "    'right_foot',    # 6\n",
    "    'center_torso',  # 7\n",
    "    'upper_torso',   # 8\n",
    "    'neck_base',     # 9\n",
    "    'center_head',   # 10\n",
    "    'right_shoulder',# 11\n",
    "    'right_elbow',   # 12\n",
    "    'right_hand',    # 13\n",
    "    'left_shoulder', # 14\n",
    "    'left_elbow',    # 15\n",
    "    'left_hand'      # 16\n",
    "]\n",
    "\n",
    "keypoints_names = [\n",
    "    'Head_top', \n",
    "    'upper_torso', \n",
    "    'right_shoulder', \n",
    "    'right_elbow', \n",
    "    'R_Wrist', \n",
    "    'left_shoulder', \n",
    "    'left_elbow', \n",
    "    'L_Wrist', \n",
    "    'right_hip', \n",
    "    'right_knee', \n",
    "    'R_Ankle', \n",
    "    'left_hip', \n",
    "    'left_knee', \n",
    "    'L_Ankle', \n",
    "    'bottom_torso', \n",
    "    'Spine', \n",
    "    'Head', \n",
    "    'R_Hand', \n",
    "    'L_Hand', \n",
    "    'R_Toe', \n",
    "    'L_Toe']\n",
    "\n",
    "skeleton_connections_old = [\n",
    "    # Torso\n",
    "    (0, 7),  # bottom_torso to center_torso\n",
    "    (7, 8),  # center_torso to upper_torso\n",
    "    (8, 9),  # upper_torso to neck_base\n",
    "    (9, 10), # neck_base to center_head\n",
    "    \n",
    "    # Left leg\n",
    "    (0, 1),  # bottom_torso to left_hip\n",
    "    (1, 2),  # left_hip to left_knee\n",
    "    (2, 3),  # left_knee to left_foot\n",
    "    \n",
    "    # Right leg\n",
    "    (0, 4),  # bottom_torso to right_hip\n",
    "    (4, 5),  # right_hip to right_knee\n",
    "    (5, 6),  # right_knee to right_foot\n",
    "    \n",
    "    # Left arm\n",
    "    (8, 14), # upper_torso to left_shoulder\n",
    "    (14, 15),# left_shoulder to left_elbow\n",
    "    (15, 16),# left_elbow to left_hand\n",
    "    \n",
    "    # Right arm\n",
    "    (8, 11), # upper_torso to right_shoulder\n",
    "    (11, 12),# right_shoulder to right_elbow\n",
    "    (12, 13), # right_elbow to right_hand\n",
    "    \n",
    "]\n",
    "\n",
    "skeleton_connections = [(0, 16), (16, 1), (1, 15), (15, 14), (14, 8), (14, 11), (8, 9), (9, 10), (10, 19), (11, 12), (12, 13), (13, 20), (1, 2), (2, 3), (3, 4), (4, 17), (1, 5), (5, 6), (6, 7), (7, 18)]\n",
    "\n",
    "# Extract keypoints\n",
    "# keypoints = np.array(rula_girl['predictions'][0][0]['keypoints'])\n",
    "keypoints = np.array(mppe_guy['predictions'][0][0]['keypoints'])"
   ]
  },
  {
   "cell_type": "markdown",
   "metadata": {},
   "source": [
    "### Change Format"
   ]
  },
  {
   "cell_type": "code",
   "execution_count": 24,
   "metadata": {},
   "outputs": [],
   "source": [
    "def swap_xyz(points, order=(0, 1, 2)):\n",
    "    \"\"\"\n",
    "    Swap x, y, and z values in a list of 3D points or numpy array.\n",
    "    \n",
    "    :param points: List of lists/tuples containing (x, y, z) coordinates, or numpy array.\n",
    "    :param order: A tuple specifying the new order of indices (default is (0,1,2)).\n",
    "    :return: Numpy array with reordered coordinates if input was array, otherwise list of lists.\n",
    "    \"\"\"\n",
    "    if isinstance(points, np.ndarray):\n",
    "        points_list = points.tolist()\n",
    "        swapped = [[point[i] for i in order] for point in points_list]\n",
    "        return np.array(swapped)\n",
    "    return [[point[i] for i in order] for point in points]\n",
    "\n",
    "\n",
    "def negate_axes(points, negate_x=False, negate_y=False, negate_z=False):\n",
    "    \"\"\"\n",
    "    Negate specified axes in a list of 3D points or numpy array.\n",
    "    \n",
    "    :param points: List of lists/tuples containing (x, y, z) coordinates, or numpy array.\n",
    "    :param negate_x: Boolean indicating whether to negate x coordinates.\n",
    "    :param negate_y: Boolean indicating whether to negate y coordinates. \n",
    "    :param negate_z: Boolean indicating whether to negate z coordinates.\n",
    "    :return: Numpy array with negated coordinates if input was array, otherwise list of lists.\n",
    "    \"\"\"\n",
    "    multiplier = [\n",
    "        -1 if negate_x else 1,\n",
    "        -1 if negate_y else 1, \n",
    "        -1 if negate_z else 1\n",
    "    ]\n",
    "    \n",
    "    if isinstance(points, np.ndarray):\n",
    "        return points * multiplier\n",
    "    return [[p[i] * multiplier[i] for i in range(3)] for p in points]\n",
    "\n",
    "\n",
    "# Swap x and y\n",
    "keypoints = swap_xyz(keypoints, order=(0, 2, 1)) \n",
    "# make z axis point upwards\n",
    "keypoints = negate_axes(keypoints, negate_z=True)"
   ]
  },
  {
   "cell_type": "markdown",
   "metadata": {},
   "source": [
    "### Visualization"
   ]
  },
  {
   "cell_type": "code",
   "execution_count": 25,
   "metadata": {},
   "outputs": [
    {
     "data": {
      "application/vnd.plotly.v1+json": {
       "config": {
        "plotlyServerURL": "https://plot.ly"
       },
       "data": [
        {
         "hovertemplate": "<b>%{text}</b><br>x: %{x:.3f}<br>y: %{y:.3f}<br>z: %{z:.3f}<br>",
         "marker": {
          "color": [
           937.1,
           642.48,
           658.15,
           398.14,
           225.2,
           621.27,
           319.42,
           201.44,
           90.725,
           -322.33,
           -620.64,
           84.028,
           -333.61,
           -771.34,
           89.744,
           382.97,
           761.69,
           142.77,
           153.26,
           -732.06,
           -842.24
          ],
          "colorscale": [
           [
            0,
            "#440154"
           ],
           [
            0.1111111111111111,
            "#482878"
           ],
           [
            0.2222222222222222,
            "#3e4989"
           ],
           [
            0.3333333333333333,
            "#31688e"
           ],
           [
            0.4444444444444444,
            "#26828e"
           ],
           [
            0.5555555555555556,
            "#1f9e89"
           ],
           [
            0.6666666666666666,
            "#35b779"
           ],
           [
            0.7777777777777778,
            "#6ece58"
           ],
           [
            0.8888888888888888,
            "#b5de2b"
           ],
           [
            1,
            "#fde725"
           ]
          ],
          "showscale": true,
          "size": 8
         },
         "mode": "markers+text",
         "name": "Keypoints",
         "text": [
          "(Head_top)",
          "(upper_torso)",
          "(right_shoulder)",
          "(right_elbow)",
          "(R_Wrist)",
          "(left_shoulder)",
          "(left_elbow)",
          "(L_Wrist)",
          "(right_hip)",
          "(right_knee)",
          "(R_Ankle)",
          "(left_hip)",
          "(left_knee)",
          "(L_Ankle)",
          "(bottom_torso)",
          "(Spine)",
          "(Head)",
          "(R_Hand)",
          "(L_Hand)",
          "(R_Toe)",
          "(L_Toe)"
         ],
         "type": "scatter3d",
         "x": [
          112.65,
          129.87,
          34.564,
          45.784,
          -31.632,
          221.89,
          196.01,
          1.489,
          3.3313,
          -63.62,
          187.16,
          145,
          92.544,
          51.896,
          80.643,
          113.02,
          107.48,
          -65.969,
          -43.841,
          126.46,
          -54.69
         ],
         "y": [
          2411.8,
          2451.8,
          2528.7,
          2701.7,
          2556.7,
          2345.6,
          2247.4,
          2273.6,
          2594.7,
          2567.2,
          2649.6,
          2402.5,
          2438.4,
          2438.8,
          2504.5,
          2501.2,
          2409.1,
          2554.5,
          2272.7,
          2625.8,
          2407.2
         ],
         "z": [
          937.1,
          642.48,
          658.15,
          398.14,
          225.2,
          621.27,
          319.42,
          201.44,
          90.725,
          -322.33,
          -620.64,
          84.028,
          -333.61,
          -771.34,
          89.744,
          382.97,
          761.69,
          142.77,
          153.26,
          -732.06,
          -842.24
         ]
        },
        {
         "hoverinfo": "skip",
         "line": {
          "color": "gray",
          "width": 2
         },
         "mode": "lines",
         "showlegend": false,
         "type": "scatter3d",
         "x": [
          112.65,
          107.48
         ],
         "y": [
          2411.8,
          2409.1
         ],
         "z": [
          937.1,
          761.69
         ]
        },
        {
         "hoverinfo": "skip",
         "line": {
          "color": "gray",
          "width": 2
         },
         "mode": "lines",
         "showlegend": false,
         "type": "scatter3d",
         "x": [
          107.48,
          129.87
         ],
         "y": [
          2409.1,
          2451.8
         ],
         "z": [
          761.69,
          642.48
         ]
        },
        {
         "hoverinfo": "skip",
         "line": {
          "color": "gray",
          "width": 2
         },
         "mode": "lines",
         "showlegend": false,
         "type": "scatter3d",
         "x": [
          129.87,
          113.02
         ],
         "y": [
          2451.8,
          2501.2
         ],
         "z": [
          642.48,
          382.97
         ]
        },
        {
         "hoverinfo": "skip",
         "line": {
          "color": "gray",
          "width": 2
         },
         "mode": "lines",
         "showlegend": false,
         "type": "scatter3d",
         "x": [
          113.02,
          80.643
         ],
         "y": [
          2501.2,
          2504.5
         ],
         "z": [
          382.97,
          89.744
         ]
        },
        {
         "hoverinfo": "skip",
         "line": {
          "color": "gray",
          "width": 2
         },
         "mode": "lines",
         "showlegend": false,
         "type": "scatter3d",
         "x": [
          80.643,
          3.3313
         ],
         "y": [
          2504.5,
          2594.7
         ],
         "z": [
          89.744,
          90.725
         ]
        },
        {
         "hoverinfo": "skip",
         "line": {
          "color": "gray",
          "width": 2
         },
         "mode": "lines",
         "showlegend": false,
         "type": "scatter3d",
         "x": [
          80.643,
          145
         ],
         "y": [
          2504.5,
          2402.5
         ],
         "z": [
          89.744,
          84.028
         ]
        },
        {
         "hoverinfo": "skip",
         "line": {
          "color": "gray",
          "width": 2
         },
         "mode": "lines",
         "showlegend": false,
         "type": "scatter3d",
         "x": [
          3.3313,
          -63.62
         ],
         "y": [
          2594.7,
          2567.2
         ],
         "z": [
          90.725,
          -322.33
         ]
        },
        {
         "hoverinfo": "skip",
         "line": {
          "color": "gray",
          "width": 2
         },
         "mode": "lines",
         "showlegend": false,
         "type": "scatter3d",
         "x": [
          -63.62,
          187.16
         ],
         "y": [
          2567.2,
          2649.6
         ],
         "z": [
          -322.33,
          -620.64
         ]
        },
        {
         "hoverinfo": "skip",
         "line": {
          "color": "gray",
          "width": 2
         },
         "mode": "lines",
         "showlegend": false,
         "type": "scatter3d",
         "x": [
          187.16,
          126.46
         ],
         "y": [
          2649.6,
          2625.8
         ],
         "z": [
          -620.64,
          -732.06
         ]
        },
        {
         "hoverinfo": "skip",
         "line": {
          "color": "gray",
          "width": 2
         },
         "mode": "lines",
         "showlegend": false,
         "type": "scatter3d",
         "x": [
          145,
          92.544
         ],
         "y": [
          2402.5,
          2438.4
         ],
         "z": [
          84.028,
          -333.61
         ]
        },
        {
         "hoverinfo": "skip",
         "line": {
          "color": "gray",
          "width": 2
         },
         "mode": "lines",
         "showlegend": false,
         "type": "scatter3d",
         "x": [
          92.544,
          51.896
         ],
         "y": [
          2438.4,
          2438.8
         ],
         "z": [
          -333.61,
          -771.34
         ]
        },
        {
         "hoverinfo": "skip",
         "line": {
          "color": "gray",
          "width": 2
         },
         "mode": "lines",
         "showlegend": false,
         "type": "scatter3d",
         "x": [
          51.896,
          -54.69
         ],
         "y": [
          2438.8,
          2407.2
         ],
         "z": [
          -771.34,
          -842.24
         ]
        },
        {
         "hoverinfo": "skip",
         "line": {
          "color": "gray",
          "width": 2
         },
         "mode": "lines",
         "showlegend": false,
         "type": "scatter3d",
         "x": [
          129.87,
          34.564
         ],
         "y": [
          2451.8,
          2528.7
         ],
         "z": [
          642.48,
          658.15
         ]
        },
        {
         "hoverinfo": "skip",
         "line": {
          "color": "gray",
          "width": 2
         },
         "mode": "lines",
         "showlegend": false,
         "type": "scatter3d",
         "x": [
          34.564,
          45.784
         ],
         "y": [
          2528.7,
          2701.7
         ],
         "z": [
          658.15,
          398.14
         ]
        },
        {
         "hoverinfo": "skip",
         "line": {
          "color": "gray",
          "width": 2
         },
         "mode": "lines",
         "showlegend": false,
         "type": "scatter3d",
         "x": [
          45.784,
          -31.632
         ],
         "y": [
          2701.7,
          2556.7
         ],
         "z": [
          398.14,
          225.2
         ]
        },
        {
         "hoverinfo": "skip",
         "line": {
          "color": "gray",
          "width": 2
         },
         "mode": "lines",
         "showlegend": false,
         "type": "scatter3d",
         "x": [
          -31.632,
          -65.969
         ],
         "y": [
          2556.7,
          2554.5
         ],
         "z": [
          225.2,
          142.77
         ]
        },
        {
         "hoverinfo": "skip",
         "line": {
          "color": "gray",
          "width": 2
         },
         "mode": "lines",
         "showlegend": false,
         "type": "scatter3d",
         "x": [
          129.87,
          221.89
         ],
         "y": [
          2451.8,
          2345.6
         ],
         "z": [
          642.48,
          621.27
         ]
        },
        {
         "hoverinfo": "skip",
         "line": {
          "color": "gray",
          "width": 2
         },
         "mode": "lines",
         "showlegend": false,
         "type": "scatter3d",
         "x": [
          221.89,
          196.01
         ],
         "y": [
          2345.6,
          2247.4
         ],
         "z": [
          621.27,
          319.42
         ]
        },
        {
         "hoverinfo": "skip",
         "line": {
          "color": "gray",
          "width": 2
         },
         "mode": "lines",
         "showlegend": false,
         "type": "scatter3d",
         "x": [
          196.01,
          1.489
         ],
         "y": [
          2247.4,
          2273.6
         ],
         "z": [
          319.42,
          201.44
         ]
        },
        {
         "hoverinfo": "skip",
         "line": {
          "color": "gray",
          "width": 2
         },
         "mode": "lines",
         "showlegend": false,
         "type": "scatter3d",
         "x": [
          1.489,
          -43.841
         ],
         "y": [
          2273.6,
          2272.7
         ],
         "z": [
          201.44,
          153.26
         ]
        }
       ],
       "layout": {
        "height": 800,
        "scene": {
         "aspectmode": "data",
         "xaxis": {
          "title": {
           "text": "X"
          }
         },
         "yaxis": {
          "title": {
           "text": "Y"
          }
         },
         "zaxis": {
          "title": {
           "text": "Z"
          }
         }
        },
        "template": {
         "data": {
          "bar": [
           {
            "error_x": {
             "color": "#2a3f5f"
            },
            "error_y": {
             "color": "#2a3f5f"
            },
            "marker": {
             "line": {
              "color": "#E5ECF6",
              "width": 0.5
             },
             "pattern": {
              "fillmode": "overlay",
              "size": 10,
              "solidity": 0.2
             }
            },
            "type": "bar"
           }
          ],
          "barpolar": [
           {
            "marker": {
             "line": {
              "color": "#E5ECF6",
              "width": 0.5
             },
             "pattern": {
              "fillmode": "overlay",
              "size": 10,
              "solidity": 0.2
             }
            },
            "type": "barpolar"
           }
          ],
          "carpet": [
           {
            "aaxis": {
             "endlinecolor": "#2a3f5f",
             "gridcolor": "white",
             "linecolor": "white",
             "minorgridcolor": "white",
             "startlinecolor": "#2a3f5f"
            },
            "baxis": {
             "endlinecolor": "#2a3f5f",
             "gridcolor": "white",
             "linecolor": "white",
             "minorgridcolor": "white",
             "startlinecolor": "#2a3f5f"
            },
            "type": "carpet"
           }
          ],
          "choropleth": [
           {
            "colorbar": {
             "outlinewidth": 0,
             "ticks": ""
            },
            "type": "choropleth"
           }
          ],
          "contour": [
           {
            "colorbar": {
             "outlinewidth": 0,
             "ticks": ""
            },
            "colorscale": [
             [
              0,
              "#0d0887"
             ],
             [
              0.1111111111111111,
              "#46039f"
             ],
             [
              0.2222222222222222,
              "#7201a8"
             ],
             [
              0.3333333333333333,
              "#9c179e"
             ],
             [
              0.4444444444444444,
              "#bd3786"
             ],
             [
              0.5555555555555556,
              "#d8576b"
             ],
             [
              0.6666666666666666,
              "#ed7953"
             ],
             [
              0.7777777777777778,
              "#fb9f3a"
             ],
             [
              0.8888888888888888,
              "#fdca26"
             ],
             [
              1,
              "#f0f921"
             ]
            ],
            "type": "contour"
           }
          ],
          "contourcarpet": [
           {
            "colorbar": {
             "outlinewidth": 0,
             "ticks": ""
            },
            "type": "contourcarpet"
           }
          ],
          "heatmap": [
           {
            "colorbar": {
             "outlinewidth": 0,
             "ticks": ""
            },
            "colorscale": [
             [
              0,
              "#0d0887"
             ],
             [
              0.1111111111111111,
              "#46039f"
             ],
             [
              0.2222222222222222,
              "#7201a8"
             ],
             [
              0.3333333333333333,
              "#9c179e"
             ],
             [
              0.4444444444444444,
              "#bd3786"
             ],
             [
              0.5555555555555556,
              "#d8576b"
             ],
             [
              0.6666666666666666,
              "#ed7953"
             ],
             [
              0.7777777777777778,
              "#fb9f3a"
             ],
             [
              0.8888888888888888,
              "#fdca26"
             ],
             [
              1,
              "#f0f921"
             ]
            ],
            "type": "heatmap"
           }
          ],
          "heatmapgl": [
           {
            "colorbar": {
             "outlinewidth": 0,
             "ticks": ""
            },
            "colorscale": [
             [
              0,
              "#0d0887"
             ],
             [
              0.1111111111111111,
              "#46039f"
             ],
             [
              0.2222222222222222,
              "#7201a8"
             ],
             [
              0.3333333333333333,
              "#9c179e"
             ],
             [
              0.4444444444444444,
              "#bd3786"
             ],
             [
              0.5555555555555556,
              "#d8576b"
             ],
             [
              0.6666666666666666,
              "#ed7953"
             ],
             [
              0.7777777777777778,
              "#fb9f3a"
             ],
             [
              0.8888888888888888,
              "#fdca26"
             ],
             [
              1,
              "#f0f921"
             ]
            ],
            "type": "heatmapgl"
           }
          ],
          "histogram": [
           {
            "marker": {
             "pattern": {
              "fillmode": "overlay",
              "size": 10,
              "solidity": 0.2
             }
            },
            "type": "histogram"
           }
          ],
          "histogram2d": [
           {
            "colorbar": {
             "outlinewidth": 0,
             "ticks": ""
            },
            "colorscale": [
             [
              0,
              "#0d0887"
             ],
             [
              0.1111111111111111,
              "#46039f"
             ],
             [
              0.2222222222222222,
              "#7201a8"
             ],
             [
              0.3333333333333333,
              "#9c179e"
             ],
             [
              0.4444444444444444,
              "#bd3786"
             ],
             [
              0.5555555555555556,
              "#d8576b"
             ],
             [
              0.6666666666666666,
              "#ed7953"
             ],
             [
              0.7777777777777778,
              "#fb9f3a"
             ],
             [
              0.8888888888888888,
              "#fdca26"
             ],
             [
              1,
              "#f0f921"
             ]
            ],
            "type": "histogram2d"
           }
          ],
          "histogram2dcontour": [
           {
            "colorbar": {
             "outlinewidth": 0,
             "ticks": ""
            },
            "colorscale": [
             [
              0,
              "#0d0887"
             ],
             [
              0.1111111111111111,
              "#46039f"
             ],
             [
              0.2222222222222222,
              "#7201a8"
             ],
             [
              0.3333333333333333,
              "#9c179e"
             ],
             [
              0.4444444444444444,
              "#bd3786"
             ],
             [
              0.5555555555555556,
              "#d8576b"
             ],
             [
              0.6666666666666666,
              "#ed7953"
             ],
             [
              0.7777777777777778,
              "#fb9f3a"
             ],
             [
              0.8888888888888888,
              "#fdca26"
             ],
             [
              1,
              "#f0f921"
             ]
            ],
            "type": "histogram2dcontour"
           }
          ],
          "mesh3d": [
           {
            "colorbar": {
             "outlinewidth": 0,
             "ticks": ""
            },
            "type": "mesh3d"
           }
          ],
          "parcoords": [
           {
            "line": {
             "colorbar": {
              "outlinewidth": 0,
              "ticks": ""
             }
            },
            "type": "parcoords"
           }
          ],
          "pie": [
           {
            "automargin": true,
            "type": "pie"
           }
          ],
          "scatter": [
           {
            "fillpattern": {
             "fillmode": "overlay",
             "size": 10,
             "solidity": 0.2
            },
            "type": "scatter"
           }
          ],
          "scatter3d": [
           {
            "line": {
             "colorbar": {
              "outlinewidth": 0,
              "ticks": ""
             }
            },
            "marker": {
             "colorbar": {
              "outlinewidth": 0,
              "ticks": ""
             }
            },
            "type": "scatter3d"
           }
          ],
          "scattercarpet": [
           {
            "marker": {
             "colorbar": {
              "outlinewidth": 0,
              "ticks": ""
             }
            },
            "type": "scattercarpet"
           }
          ],
          "scattergeo": [
           {
            "marker": {
             "colorbar": {
              "outlinewidth": 0,
              "ticks": ""
             }
            },
            "type": "scattergeo"
           }
          ],
          "scattergl": [
           {
            "marker": {
             "colorbar": {
              "outlinewidth": 0,
              "ticks": ""
             }
            },
            "type": "scattergl"
           }
          ],
          "scattermapbox": [
           {
            "marker": {
             "colorbar": {
              "outlinewidth": 0,
              "ticks": ""
             }
            },
            "type": "scattermapbox"
           }
          ],
          "scatterpolar": [
           {
            "marker": {
             "colorbar": {
              "outlinewidth": 0,
              "ticks": ""
             }
            },
            "type": "scatterpolar"
           }
          ],
          "scatterpolargl": [
           {
            "marker": {
             "colorbar": {
              "outlinewidth": 0,
              "ticks": ""
             }
            },
            "type": "scatterpolargl"
           }
          ],
          "scatterternary": [
           {
            "marker": {
             "colorbar": {
              "outlinewidth": 0,
              "ticks": ""
             }
            },
            "type": "scatterternary"
           }
          ],
          "surface": [
           {
            "colorbar": {
             "outlinewidth": 0,
             "ticks": ""
            },
            "colorscale": [
             [
              0,
              "#0d0887"
             ],
             [
              0.1111111111111111,
              "#46039f"
             ],
             [
              0.2222222222222222,
              "#7201a8"
             ],
             [
              0.3333333333333333,
              "#9c179e"
             ],
             [
              0.4444444444444444,
              "#bd3786"
             ],
             [
              0.5555555555555556,
              "#d8576b"
             ],
             [
              0.6666666666666666,
              "#ed7953"
             ],
             [
              0.7777777777777778,
              "#fb9f3a"
             ],
             [
              0.8888888888888888,
              "#fdca26"
             ],
             [
              1,
              "#f0f921"
             ]
            ],
            "type": "surface"
           }
          ],
          "table": [
           {
            "cells": {
             "fill": {
              "color": "#EBF0F8"
             },
             "line": {
              "color": "white"
             }
            },
            "header": {
             "fill": {
              "color": "#C8D4E3"
             },
             "line": {
              "color": "white"
             }
            },
            "type": "table"
           }
          ]
         },
         "layout": {
          "annotationdefaults": {
           "arrowcolor": "#2a3f5f",
           "arrowhead": 0,
           "arrowwidth": 1
          },
          "autotypenumbers": "strict",
          "coloraxis": {
           "colorbar": {
            "outlinewidth": 0,
            "ticks": ""
           }
          },
          "colorscale": {
           "diverging": [
            [
             0,
             "#8e0152"
            ],
            [
             0.1,
             "#c51b7d"
            ],
            [
             0.2,
             "#de77ae"
            ],
            [
             0.3,
             "#f1b6da"
            ],
            [
             0.4,
             "#fde0ef"
            ],
            [
             0.5,
             "#f7f7f7"
            ],
            [
             0.6,
             "#e6f5d0"
            ],
            [
             0.7,
             "#b8e186"
            ],
            [
             0.8,
             "#7fbc41"
            ],
            [
             0.9,
             "#4d9221"
            ],
            [
             1,
             "#276419"
            ]
           ],
           "sequential": [
            [
             0,
             "#0d0887"
            ],
            [
             0.1111111111111111,
             "#46039f"
            ],
            [
             0.2222222222222222,
             "#7201a8"
            ],
            [
             0.3333333333333333,
             "#9c179e"
            ],
            [
             0.4444444444444444,
             "#bd3786"
            ],
            [
             0.5555555555555556,
             "#d8576b"
            ],
            [
             0.6666666666666666,
             "#ed7953"
            ],
            [
             0.7777777777777778,
             "#fb9f3a"
            ],
            [
             0.8888888888888888,
             "#fdca26"
            ],
            [
             1,
             "#f0f921"
            ]
           ],
           "sequentialminus": [
            [
             0,
             "#0d0887"
            ],
            [
             0.1111111111111111,
             "#46039f"
            ],
            [
             0.2222222222222222,
             "#7201a8"
            ],
            [
             0.3333333333333333,
             "#9c179e"
            ],
            [
             0.4444444444444444,
             "#bd3786"
            ],
            [
             0.5555555555555556,
             "#d8576b"
            ],
            [
             0.6666666666666666,
             "#ed7953"
            ],
            [
             0.7777777777777778,
             "#fb9f3a"
            ],
            [
             0.8888888888888888,
             "#fdca26"
            ],
            [
             1,
             "#f0f921"
            ]
           ]
          },
          "colorway": [
           "#636efa",
           "#EF553B",
           "#00cc96",
           "#ab63fa",
           "#FFA15A",
           "#19d3f3",
           "#FF6692",
           "#B6E880",
           "#FF97FF",
           "#FECB52"
          ],
          "font": {
           "color": "#2a3f5f"
          },
          "geo": {
           "bgcolor": "white",
           "lakecolor": "white",
           "landcolor": "#E5ECF6",
           "showlakes": true,
           "showland": true,
           "subunitcolor": "white"
          },
          "hoverlabel": {
           "align": "left"
          },
          "hovermode": "closest",
          "mapbox": {
           "style": "light"
          },
          "paper_bgcolor": "white",
          "plot_bgcolor": "#E5ECF6",
          "polar": {
           "angularaxis": {
            "gridcolor": "white",
            "linecolor": "white",
            "ticks": ""
           },
           "bgcolor": "#E5ECF6",
           "radialaxis": {
            "gridcolor": "white",
            "linecolor": "white",
            "ticks": ""
           }
          },
          "scene": {
           "xaxis": {
            "backgroundcolor": "#E5ECF6",
            "gridcolor": "white",
            "gridwidth": 2,
            "linecolor": "white",
            "showbackground": true,
            "ticks": "",
            "zerolinecolor": "white"
           },
           "yaxis": {
            "backgroundcolor": "#E5ECF6",
            "gridcolor": "white",
            "gridwidth": 2,
            "linecolor": "white",
            "showbackground": true,
            "ticks": "",
            "zerolinecolor": "white"
           },
           "zaxis": {
            "backgroundcolor": "#E5ECF6",
            "gridcolor": "white",
            "gridwidth": 2,
            "linecolor": "white",
            "showbackground": true,
            "ticks": "",
            "zerolinecolor": "white"
           }
          },
          "shapedefaults": {
           "line": {
            "color": "#2a3f5f"
           }
          },
          "ternary": {
           "aaxis": {
            "gridcolor": "white",
            "linecolor": "white",
            "ticks": ""
           },
           "baxis": {
            "gridcolor": "white",
            "linecolor": "white",
            "ticks": ""
           },
           "bgcolor": "#E5ECF6",
           "caxis": {
            "gridcolor": "white",
            "linecolor": "white",
            "ticks": ""
           }
          },
          "title": {
           "x": 0.05
          },
          "xaxis": {
           "automargin": true,
           "gridcolor": "white",
           "linecolor": "white",
           "ticks": "",
           "title": {
            "standoff": 15
           },
           "zerolinecolor": "white",
           "zerolinewidth": 2
          },
          "yaxis": {
           "automargin": true,
           "gridcolor": "white",
           "linecolor": "white",
           "ticks": "",
           "title": {
            "standoff": 15
           },
           "zerolinecolor": "white",
           "zerolinewidth": 2
          }
         }
        },
        "title": {
         "text": "3D Pose Keypoints with Skeleton"
        },
        "width": 800
       }
      }
     },
     "metadata": {},
     "output_type": "display_data"
    }
   ],
   "source": [
    "import plotly.graph_objects as go\n",
    "\n",
    "\n",
    "to_visualize_keypoints = keypoints.copy()\n",
    "# Define the connections for the skeleton\n",
    "# Each tuple represents (start_point_idx, end_point_idx)\n",
    "\n",
    "# Create figure\n",
    "fig = go.Figure()\n",
    "\n",
    "# Add points\n",
    "fig.add_trace(go.Scatter3d(\n",
    "    x=to_visualize_keypoints[:, 0],\n",
    "    y=to_visualize_keypoints[:, 1],\n",
    "    z=to_visualize_keypoints[:, 2],\n",
    "    mode='markers+text',\n",
    "    marker=dict(\n",
    "        size=8,\n",
    "        color=keypoints[:, 2],\n",
    "        colorscale='Viridis',\n",
    "        showscale=True\n",
    "    ),\n",
    "    text=[f'({keypoints_names[i]})' for i, name in enumerate(to_visualize_keypoints)],\n",
    "    hovertemplate='<b>%{text}</b><br>' +\n",
    "                  'x: %{x:.3f}<br>' +\n",
    "                  'y: %{y:.3f}<br>' +\n",
    "                  'z: %{z:.3f}<br>'\n",
    "                  ,\n",
    "    name='Keypoints'\n",
    "))\n",
    "\n",
    "# Add lines for skeleton\n",
    "for connection in skeleton_connections:\n",
    "    start_idx, end_idx = connection\n",
    "    fig.add_trace(go.Scatter3d(\n",
    "        x=[to_visualize_keypoints[start_idx][0], to_visualize_keypoints[end_idx][0]],\n",
    "        y=[to_visualize_keypoints[start_idx][1], to_visualize_keypoints[end_idx][1]],\n",
    "        z=[to_visualize_keypoints[start_idx][2], to_visualize_keypoints[end_idx][2]],\n",
    "        mode='lines',\n",
    "        line=dict(color='gray', width=2),\n",
    "        hoverinfo='skip',\n",
    "        showlegend=False\n",
    "    ))\n",
    "\n",
    "# Update layout\n",
    "fig.update_layout(\n",
    "    title='3D Pose Keypoints with Skeleton',\n",
    "    scene=dict(\n",
    "        xaxis_title = 'X',#'X',\n",
    "        yaxis_title = 'Y',#'Z',\n",
    "        zaxis_title = 'Z',#'Y',\n",
    "        aspectmode='data'\n",
    "    ),\n",
    "    width=800,\n",
    "    height=800\n",
    ")\n",
    "\n",
    "# Show the plot\n",
    "fig.show()"
   ]
  },
  {
   "cell_type": "markdown",
   "metadata": {},
   "source": [
    "### Project to the side view"
   ]
  },
  {
   "cell_type": "code",
   "execution_count": 26,
   "metadata": {},
   "outputs": [
    {
     "data": {
      "text/plain": [
       "array([[-1606.78460535, -1802.14108618,   937.1       ],\n",
       "       [-1622.4639043 , -1842.76974583,   642.48      ],\n",
       "       [-1744.36270794, -1831.04262737,   658.15      ],\n",
       "       [-1857.37509066, -1962.50779291,   398.14      ],\n",
       "       [-1811.25111475, -1804.73955814,   225.2       ],\n",
       "       [-1482.41501816, -1831.26192721,   621.27      ],\n",
       "       [-1432.20735461, -1742.98846052,   319.42      ],\n",
       "       [-1589.53007376, -1625.62397919,   201.44      ],\n",
       "       [-1812.85289835, -1856.35221779,    90.725     ],\n",
       "       [-1841.45360219, -1789.86367509,  -322.33      ],\n",
       "       [-1719.90724496, -2024.18578553,  -620.64      ],\n",
       "       [-1577.16296505, -1818.127672  ,    84.028     ],\n",
       "       [-1639.76034978, -1807.08188725,  -333.61      ],\n",
       "       [-1669.08488284, -1778.93065877,  -771.34      ],\n",
       "       [-1694.50719133, -1845.9872486 ,    89.744     ],\n",
       "       [-1669.06381477, -1866.27997435,   382.97      ],\n",
       "       [-1608.5898862 , -1796.59492886,   761.69      ],\n",
       "       [-1834.24723328, -1779.14565063,   142.77      ],\n",
       "       [-1621.29062108, -1593.26835319,   153.26      ],\n",
       "       [-1746.6296266 , -1964.71441158,  -732.06      ],\n",
       "       [-1723.13790723, -1681.78434669,  -842.24      ]])"
      ]
     },
     "execution_count": 26,
     "metadata": {},
     "output_type": "execute_result"
    }
   ],
   "source": [
    "def rotate_keypoints(keypoints, view=\"side\"):\n",
    "    right_shoulder_coords = keypoints[keypoints_names.index('right_shoulder')].copy()\n",
    "    left_shoulder_coords = keypoints[keypoints_names.index('left_shoulder')].copy()\n",
    "    lower_torso_coords = keypoints[keypoints_names.index('bottom_torso')].copy()\n",
    "    upper_torso_coords = keypoints[keypoints_names.index('upper_torso')].copy()\n",
    "\n",
    "\n",
    "    # Step 1: Calculate torso and shoulder vectors\n",
    "    torso_vector = upper_torso_coords - lower_torso_coords\n",
    "    shoulder_vector = right_shoulder_coords - left_shoulder_coords\n",
    "\n",
    "    # Step 2: Compute facing vector (cross product)\n",
    "    facing_vector = np.cross(shoulder_vector, torso_vector)\n",
    "\n",
    "    # Step 3: Normalize facing vector\n",
    "    facing_vector = facing_vector / np.linalg.norm(facing_vector)\n",
    "\n",
    "    # Step 4: Define reference direction \n",
    "    if view == \"side\":\n",
    "        #(Y-axis)\n",
    "        reference_vector = np.array([0, 1, 0])\n",
    "    elif view == \"top\":\n",
    "        #(Z-axis)\n",
    "        reference_vector = np.array([0, 0, 1])\n",
    "    else:\n",
    "        #(Y-axis)\n",
    "        reference_vector = np.array([0, 1, 0])\n",
    "\n",
    "    # Step 5: Compute angle between facing_vector and reference_vector\n",
    "    dot_product = np.dot(facing_vector, reference_vector)\n",
    "    cross_product = np.cross(facing_vector, reference_vector)\n",
    "    angle = np.arctan2(np.linalg.norm(cross_product), dot_product)\n",
    "\n",
    "    # Step 6: Build rotation matrix to rotate about Z-axis\n",
    "    rotation_matrix = np.array([\n",
    "        [np.cos(angle), -np.sin(angle), 0],\n",
    "        [np.sin(angle),  np.cos(angle), 0],\n",
    "        [0,              0,             1]\n",
    "    ])\n",
    "\n",
    "    # Step 7: Rotate keypoints\n",
    "    rotated_keypoints = np.dot(keypoints, rotation_matrix.T)\n",
    "\n",
    "    rotated_keypoints = rotated_keypoints * [1, -1, 1]\n",
    "\n",
    "    return rotated_keypoints\n",
    "\n",
    "rotated_keypoints = rotate_keypoints(keypoints=keypoints, view=\"side\")\n",
    "rotated_keypoints"
   ]
  },
  {
   "cell_type": "markdown",
   "metadata": {},
   "source": [
    "### Visualize The rotated keypoints from side view"
   ]
  },
  {
   "cell_type": "code",
   "execution_count": 27,
   "metadata": {},
   "outputs": [
    {
     "data": {
      "application/vnd.plotly.v1+json": {
       "config": {
        "plotlyServerURL": "https://plot.ly"
       },
       "data": [
        {
         "hovertemplate": "<b>%{text}</b><br>y: %{x:.3f}<br>z: %{y:.3f}<br>",
         "marker": {
          "color": [
           937.1,
           642.48,
           658.15,
           398.14,
           225.2,
           621.27,
           319.42,
           201.44,
           90.725,
           -322.33,
           -620.64,
           84.028,
           -333.61,
           -771.34,
           89.744,
           382.97,
           761.69,
           142.77,
           153.26,
           -732.06,
           -842.24
          ],
          "colorscale": [
           [
            0,
            "#440154"
           ],
           [
            0.1111111111111111,
            "#482878"
           ],
           [
            0.2222222222222222,
            "#3e4989"
           ],
           [
            0.3333333333333333,
            "#31688e"
           ],
           [
            0.4444444444444444,
            "#26828e"
           ],
           [
            0.5555555555555556,
            "#1f9e89"
           ],
           [
            0.6666666666666666,
            "#35b779"
           ],
           [
            0.7777777777777778,
            "#6ece58"
           ],
           [
            0.8888888888888888,
            "#b5de2b"
           ],
           [
            1,
            "#fde725"
           ]
          ],
          "showscale": true,
          "size": 8
         },
         "mode": "markers+text",
         "name": "Keypoints",
         "text": [
          "(Head_top)",
          "(upper_torso)",
          "(right_shoulder)",
          "(right_elbow)",
          "(R_Wrist)",
          "(left_shoulder)",
          "(left_elbow)",
          "(L_Wrist)",
          "(right_hip)",
          "(right_knee)",
          "(R_Ankle)",
          "(left_hip)",
          "(left_knee)",
          "(L_Ankle)",
          "(bottom_torso)",
          "(Spine)",
          "(Head)",
          "(R_Hand)",
          "(L_Hand)",
          "(R_Toe)",
          "(L_Toe)"
         ],
         "type": "scatter",
         "x": [
          -1802.1410861835136,
          -1842.7697458253726,
          -1831.0426273661692,
          -1962.5077929141717,
          -1804.7395581441438,
          -1831.261927206878,
          -1742.9884605220632,
          -1625.6239791917978,
          -1856.3522177947068,
          -1789.8636750856404,
          -2024.1857855314777,
          -1818.1276719955133,
          -1807.0818872478872,
          -1778.9306587660215,
          -1845.9872485997796,
          -1866.279974345116,
          -1796.594928861046,
          -1779.1456506329214,
          -1593.2683531890202,
          -1964.7144115833523,
          -1681.7843466891811
         ],
         "y": [
          937.1,
          642.48,
          658.15,
          398.14,
          225.2,
          621.27,
          319.42,
          201.44,
          90.725,
          -322.33,
          -620.64,
          84.028,
          -333.61,
          -771.34,
          89.744,
          382.97,
          761.69,
          142.77,
          153.26,
          -732.06,
          -842.24
         ]
        },
        {
         "hoverinfo": "skip",
         "line": {
          "color": "gray",
          "width": 2
         },
         "mode": "lines",
         "showlegend": false,
         "type": "scatter",
         "x": [
          -1802.1410861835136,
          -1796.594928861046
         ],
         "y": [
          937.1,
          761.69
         ]
        },
        {
         "hoverinfo": "skip",
         "line": {
          "color": "gray",
          "width": 2
         },
         "mode": "lines",
         "showlegend": false,
         "type": "scatter",
         "x": [
          -1796.594928861046,
          -1842.7697458253726
         ],
         "y": [
          761.69,
          642.48
         ]
        },
        {
         "hoverinfo": "skip",
         "line": {
          "color": "gray",
          "width": 2
         },
         "mode": "lines",
         "showlegend": false,
         "type": "scatter",
         "x": [
          -1842.7697458253726,
          -1866.279974345116
         ],
         "y": [
          642.48,
          382.97
         ]
        },
        {
         "hoverinfo": "skip",
         "line": {
          "color": "gray",
          "width": 2
         },
         "mode": "lines",
         "showlegend": false,
         "type": "scatter",
         "x": [
          -1866.279974345116,
          -1845.9872485997796
         ],
         "y": [
          382.97,
          89.744
         ]
        },
        {
         "hoverinfo": "skip",
         "line": {
          "color": "gray",
          "width": 2
         },
         "mode": "lines",
         "showlegend": false,
         "type": "scatter",
         "x": [
          -1845.9872485997796,
          -1856.3522177947068
         ],
         "y": [
          89.744,
          90.725
         ]
        },
        {
         "hoverinfo": "skip",
         "line": {
          "color": "gray",
          "width": 2
         },
         "mode": "lines",
         "showlegend": false,
         "type": "scatter",
         "x": [
          -1845.9872485997796,
          -1818.1276719955133
         ],
         "y": [
          89.744,
          84.028
         ]
        },
        {
         "hoverinfo": "skip",
         "line": {
          "color": "gray",
          "width": 2
         },
         "mode": "lines",
         "showlegend": false,
         "type": "scatter",
         "x": [
          -1856.3522177947068,
          -1789.8636750856404
         ],
         "y": [
          90.725,
          -322.33
         ]
        },
        {
         "hoverinfo": "skip",
         "line": {
          "color": "gray",
          "width": 2
         },
         "mode": "lines",
         "showlegend": false,
         "type": "scatter",
         "x": [
          -1789.8636750856404,
          -2024.1857855314777
         ],
         "y": [
          -322.33,
          -620.64
         ]
        },
        {
         "hoverinfo": "skip",
         "line": {
          "color": "gray",
          "width": 2
         },
         "mode": "lines",
         "showlegend": false,
         "type": "scatter",
         "x": [
          -2024.1857855314777,
          -1964.7144115833523
         ],
         "y": [
          -620.64,
          -732.06
         ]
        },
        {
         "hoverinfo": "skip",
         "line": {
          "color": "gray",
          "width": 2
         },
         "mode": "lines",
         "showlegend": false,
         "type": "scatter",
         "x": [
          -1818.1276719955133,
          -1807.0818872478872
         ],
         "y": [
          84.028,
          -333.61
         ]
        },
        {
         "hoverinfo": "skip",
         "line": {
          "color": "gray",
          "width": 2
         },
         "mode": "lines",
         "showlegend": false,
         "type": "scatter",
         "x": [
          -1807.0818872478872,
          -1778.9306587660215
         ],
         "y": [
          -333.61,
          -771.34
         ]
        },
        {
         "hoverinfo": "skip",
         "line": {
          "color": "gray",
          "width": 2
         },
         "mode": "lines",
         "showlegend": false,
         "type": "scatter",
         "x": [
          -1778.9306587660215,
          -1681.7843466891811
         ],
         "y": [
          -771.34,
          -842.24
         ]
        },
        {
         "hoverinfo": "skip",
         "line": {
          "color": "gray",
          "width": 2
         },
         "mode": "lines",
         "showlegend": false,
         "type": "scatter",
         "x": [
          -1842.7697458253726,
          -1831.0426273661692
         ],
         "y": [
          642.48,
          658.15
         ]
        },
        {
         "hoverinfo": "skip",
         "line": {
          "color": "gray",
          "width": 2
         },
         "mode": "lines",
         "showlegend": false,
         "type": "scatter",
         "x": [
          -1831.0426273661692,
          -1962.5077929141717
         ],
         "y": [
          658.15,
          398.14
         ]
        },
        {
         "hoverinfo": "skip",
         "line": {
          "color": "gray",
          "width": 2
         },
         "mode": "lines",
         "showlegend": false,
         "type": "scatter",
         "x": [
          -1962.5077929141717,
          -1804.7395581441438
         ],
         "y": [
          398.14,
          225.2
         ]
        },
        {
         "hoverinfo": "skip",
         "line": {
          "color": "gray",
          "width": 2
         },
         "mode": "lines",
         "showlegend": false,
         "type": "scatter",
         "x": [
          -1804.7395581441438,
          -1779.1456506329214
         ],
         "y": [
          225.2,
          142.77
         ]
        },
        {
         "hoverinfo": "skip",
         "line": {
          "color": "gray",
          "width": 2
         },
         "mode": "lines",
         "showlegend": false,
         "type": "scatter",
         "x": [
          -1842.7697458253726,
          -1831.261927206878
         ],
         "y": [
          642.48,
          621.27
         ]
        },
        {
         "hoverinfo": "skip",
         "line": {
          "color": "gray",
          "width": 2
         },
         "mode": "lines",
         "showlegend": false,
         "type": "scatter",
         "x": [
          -1831.261927206878,
          -1742.9884605220632
         ],
         "y": [
          621.27,
          319.42
         ]
        },
        {
         "hoverinfo": "skip",
         "line": {
          "color": "gray",
          "width": 2
         },
         "mode": "lines",
         "showlegend": false,
         "type": "scatter",
         "x": [
          -1742.9884605220632,
          -1625.6239791917978
         ],
         "y": [
          319.42,
          201.44
         ]
        },
        {
         "hoverinfo": "skip",
         "line": {
          "color": "gray",
          "width": 2
         },
         "mode": "lines",
         "showlegend": false,
         "type": "scatter",
         "x": [
          -1625.6239791917978,
          -1593.2683531890202
         ],
         "y": [
          201.44,
          153.26
         ]
        }
       ],
       "layout": {
        "height": 800,
        "template": {
         "data": {
          "bar": [
           {
            "error_x": {
             "color": "#2a3f5f"
            },
            "error_y": {
             "color": "#2a3f5f"
            },
            "marker": {
             "line": {
              "color": "#E5ECF6",
              "width": 0.5
             },
             "pattern": {
              "fillmode": "overlay",
              "size": 10,
              "solidity": 0.2
             }
            },
            "type": "bar"
           }
          ],
          "barpolar": [
           {
            "marker": {
             "line": {
              "color": "#E5ECF6",
              "width": 0.5
             },
             "pattern": {
              "fillmode": "overlay",
              "size": 10,
              "solidity": 0.2
             }
            },
            "type": "barpolar"
           }
          ],
          "carpet": [
           {
            "aaxis": {
             "endlinecolor": "#2a3f5f",
             "gridcolor": "white",
             "linecolor": "white",
             "minorgridcolor": "white",
             "startlinecolor": "#2a3f5f"
            },
            "baxis": {
             "endlinecolor": "#2a3f5f",
             "gridcolor": "white",
             "linecolor": "white",
             "minorgridcolor": "white",
             "startlinecolor": "#2a3f5f"
            },
            "type": "carpet"
           }
          ],
          "choropleth": [
           {
            "colorbar": {
             "outlinewidth": 0,
             "ticks": ""
            },
            "type": "choropleth"
           }
          ],
          "contour": [
           {
            "colorbar": {
             "outlinewidth": 0,
             "ticks": ""
            },
            "colorscale": [
             [
              0,
              "#0d0887"
             ],
             [
              0.1111111111111111,
              "#46039f"
             ],
             [
              0.2222222222222222,
              "#7201a8"
             ],
             [
              0.3333333333333333,
              "#9c179e"
             ],
             [
              0.4444444444444444,
              "#bd3786"
             ],
             [
              0.5555555555555556,
              "#d8576b"
             ],
             [
              0.6666666666666666,
              "#ed7953"
             ],
             [
              0.7777777777777778,
              "#fb9f3a"
             ],
             [
              0.8888888888888888,
              "#fdca26"
             ],
             [
              1,
              "#f0f921"
             ]
            ],
            "type": "contour"
           }
          ],
          "contourcarpet": [
           {
            "colorbar": {
             "outlinewidth": 0,
             "ticks": ""
            },
            "type": "contourcarpet"
           }
          ],
          "heatmap": [
           {
            "colorbar": {
             "outlinewidth": 0,
             "ticks": ""
            },
            "colorscale": [
             [
              0,
              "#0d0887"
             ],
             [
              0.1111111111111111,
              "#46039f"
             ],
             [
              0.2222222222222222,
              "#7201a8"
             ],
             [
              0.3333333333333333,
              "#9c179e"
             ],
             [
              0.4444444444444444,
              "#bd3786"
             ],
             [
              0.5555555555555556,
              "#d8576b"
             ],
             [
              0.6666666666666666,
              "#ed7953"
             ],
             [
              0.7777777777777778,
              "#fb9f3a"
             ],
             [
              0.8888888888888888,
              "#fdca26"
             ],
             [
              1,
              "#f0f921"
             ]
            ],
            "type": "heatmap"
           }
          ],
          "heatmapgl": [
           {
            "colorbar": {
             "outlinewidth": 0,
             "ticks": ""
            },
            "colorscale": [
             [
              0,
              "#0d0887"
             ],
             [
              0.1111111111111111,
              "#46039f"
             ],
             [
              0.2222222222222222,
              "#7201a8"
             ],
             [
              0.3333333333333333,
              "#9c179e"
             ],
             [
              0.4444444444444444,
              "#bd3786"
             ],
             [
              0.5555555555555556,
              "#d8576b"
             ],
             [
              0.6666666666666666,
              "#ed7953"
             ],
             [
              0.7777777777777778,
              "#fb9f3a"
             ],
             [
              0.8888888888888888,
              "#fdca26"
             ],
             [
              1,
              "#f0f921"
             ]
            ],
            "type": "heatmapgl"
           }
          ],
          "histogram": [
           {
            "marker": {
             "pattern": {
              "fillmode": "overlay",
              "size": 10,
              "solidity": 0.2
             }
            },
            "type": "histogram"
           }
          ],
          "histogram2d": [
           {
            "colorbar": {
             "outlinewidth": 0,
             "ticks": ""
            },
            "colorscale": [
             [
              0,
              "#0d0887"
             ],
             [
              0.1111111111111111,
              "#46039f"
             ],
             [
              0.2222222222222222,
              "#7201a8"
             ],
             [
              0.3333333333333333,
              "#9c179e"
             ],
             [
              0.4444444444444444,
              "#bd3786"
             ],
             [
              0.5555555555555556,
              "#d8576b"
             ],
             [
              0.6666666666666666,
              "#ed7953"
             ],
             [
              0.7777777777777778,
              "#fb9f3a"
             ],
             [
              0.8888888888888888,
              "#fdca26"
             ],
             [
              1,
              "#f0f921"
             ]
            ],
            "type": "histogram2d"
           }
          ],
          "histogram2dcontour": [
           {
            "colorbar": {
             "outlinewidth": 0,
             "ticks": ""
            },
            "colorscale": [
             [
              0,
              "#0d0887"
             ],
             [
              0.1111111111111111,
              "#46039f"
             ],
             [
              0.2222222222222222,
              "#7201a8"
             ],
             [
              0.3333333333333333,
              "#9c179e"
             ],
             [
              0.4444444444444444,
              "#bd3786"
             ],
             [
              0.5555555555555556,
              "#d8576b"
             ],
             [
              0.6666666666666666,
              "#ed7953"
             ],
             [
              0.7777777777777778,
              "#fb9f3a"
             ],
             [
              0.8888888888888888,
              "#fdca26"
             ],
             [
              1,
              "#f0f921"
             ]
            ],
            "type": "histogram2dcontour"
           }
          ],
          "mesh3d": [
           {
            "colorbar": {
             "outlinewidth": 0,
             "ticks": ""
            },
            "type": "mesh3d"
           }
          ],
          "parcoords": [
           {
            "line": {
             "colorbar": {
              "outlinewidth": 0,
              "ticks": ""
             }
            },
            "type": "parcoords"
           }
          ],
          "pie": [
           {
            "automargin": true,
            "type": "pie"
           }
          ],
          "scatter": [
           {
            "fillpattern": {
             "fillmode": "overlay",
             "size": 10,
             "solidity": 0.2
            },
            "type": "scatter"
           }
          ],
          "scatter3d": [
           {
            "line": {
             "colorbar": {
              "outlinewidth": 0,
              "ticks": ""
             }
            },
            "marker": {
             "colorbar": {
              "outlinewidth": 0,
              "ticks": ""
             }
            },
            "type": "scatter3d"
           }
          ],
          "scattercarpet": [
           {
            "marker": {
             "colorbar": {
              "outlinewidth": 0,
              "ticks": ""
             }
            },
            "type": "scattercarpet"
           }
          ],
          "scattergeo": [
           {
            "marker": {
             "colorbar": {
              "outlinewidth": 0,
              "ticks": ""
             }
            },
            "type": "scattergeo"
           }
          ],
          "scattergl": [
           {
            "marker": {
             "colorbar": {
              "outlinewidth": 0,
              "ticks": ""
             }
            },
            "type": "scattergl"
           }
          ],
          "scattermapbox": [
           {
            "marker": {
             "colorbar": {
              "outlinewidth": 0,
              "ticks": ""
             }
            },
            "type": "scattermapbox"
           }
          ],
          "scatterpolar": [
           {
            "marker": {
             "colorbar": {
              "outlinewidth": 0,
              "ticks": ""
             }
            },
            "type": "scatterpolar"
           }
          ],
          "scatterpolargl": [
           {
            "marker": {
             "colorbar": {
              "outlinewidth": 0,
              "ticks": ""
             }
            },
            "type": "scatterpolargl"
           }
          ],
          "scatterternary": [
           {
            "marker": {
             "colorbar": {
              "outlinewidth": 0,
              "ticks": ""
             }
            },
            "type": "scatterternary"
           }
          ],
          "surface": [
           {
            "colorbar": {
             "outlinewidth": 0,
             "ticks": ""
            },
            "colorscale": [
             [
              0,
              "#0d0887"
             ],
             [
              0.1111111111111111,
              "#46039f"
             ],
             [
              0.2222222222222222,
              "#7201a8"
             ],
             [
              0.3333333333333333,
              "#9c179e"
             ],
             [
              0.4444444444444444,
              "#bd3786"
             ],
             [
              0.5555555555555556,
              "#d8576b"
             ],
             [
              0.6666666666666666,
              "#ed7953"
             ],
             [
              0.7777777777777778,
              "#fb9f3a"
             ],
             [
              0.8888888888888888,
              "#fdca26"
             ],
             [
              1,
              "#f0f921"
             ]
            ],
            "type": "surface"
           }
          ],
          "table": [
           {
            "cells": {
             "fill": {
              "color": "#EBF0F8"
             },
             "line": {
              "color": "white"
             }
            },
            "header": {
             "fill": {
              "color": "#C8D4E3"
             },
             "line": {
              "color": "white"
             }
            },
            "type": "table"
           }
          ]
         },
         "layout": {
          "annotationdefaults": {
           "arrowcolor": "#2a3f5f",
           "arrowhead": 0,
           "arrowwidth": 1
          },
          "autotypenumbers": "strict",
          "coloraxis": {
           "colorbar": {
            "outlinewidth": 0,
            "ticks": ""
           }
          },
          "colorscale": {
           "diverging": [
            [
             0,
             "#8e0152"
            ],
            [
             0.1,
             "#c51b7d"
            ],
            [
             0.2,
             "#de77ae"
            ],
            [
             0.3,
             "#f1b6da"
            ],
            [
             0.4,
             "#fde0ef"
            ],
            [
             0.5,
             "#f7f7f7"
            ],
            [
             0.6,
             "#e6f5d0"
            ],
            [
             0.7,
             "#b8e186"
            ],
            [
             0.8,
             "#7fbc41"
            ],
            [
             0.9,
             "#4d9221"
            ],
            [
             1,
             "#276419"
            ]
           ],
           "sequential": [
            [
             0,
             "#0d0887"
            ],
            [
             0.1111111111111111,
             "#46039f"
            ],
            [
             0.2222222222222222,
             "#7201a8"
            ],
            [
             0.3333333333333333,
             "#9c179e"
            ],
            [
             0.4444444444444444,
             "#bd3786"
            ],
            [
             0.5555555555555556,
             "#d8576b"
            ],
            [
             0.6666666666666666,
             "#ed7953"
            ],
            [
             0.7777777777777778,
             "#fb9f3a"
            ],
            [
             0.8888888888888888,
             "#fdca26"
            ],
            [
             1,
             "#f0f921"
            ]
           ],
           "sequentialminus": [
            [
             0,
             "#0d0887"
            ],
            [
             0.1111111111111111,
             "#46039f"
            ],
            [
             0.2222222222222222,
             "#7201a8"
            ],
            [
             0.3333333333333333,
             "#9c179e"
            ],
            [
             0.4444444444444444,
             "#bd3786"
            ],
            [
             0.5555555555555556,
             "#d8576b"
            ],
            [
             0.6666666666666666,
             "#ed7953"
            ],
            [
             0.7777777777777778,
             "#fb9f3a"
            ],
            [
             0.8888888888888888,
             "#fdca26"
            ],
            [
             1,
             "#f0f921"
            ]
           ]
          },
          "colorway": [
           "#636efa",
           "#EF553B",
           "#00cc96",
           "#ab63fa",
           "#FFA15A",
           "#19d3f3",
           "#FF6692",
           "#B6E880",
           "#FF97FF",
           "#FECB52"
          ],
          "font": {
           "color": "#2a3f5f"
          },
          "geo": {
           "bgcolor": "white",
           "lakecolor": "white",
           "landcolor": "#E5ECF6",
           "showlakes": true,
           "showland": true,
           "subunitcolor": "white"
          },
          "hoverlabel": {
           "align": "left"
          },
          "hovermode": "closest",
          "mapbox": {
           "style": "light"
          },
          "paper_bgcolor": "white",
          "plot_bgcolor": "#E5ECF6",
          "polar": {
           "angularaxis": {
            "gridcolor": "white",
            "linecolor": "white",
            "ticks": ""
           },
           "bgcolor": "#E5ECF6",
           "radialaxis": {
            "gridcolor": "white",
            "linecolor": "white",
            "ticks": ""
           }
          },
          "scene": {
           "xaxis": {
            "backgroundcolor": "#E5ECF6",
            "gridcolor": "white",
            "gridwidth": 2,
            "linecolor": "white",
            "showbackground": true,
            "ticks": "",
            "zerolinecolor": "white"
           },
           "yaxis": {
            "backgroundcolor": "#E5ECF6",
            "gridcolor": "white",
            "gridwidth": 2,
            "linecolor": "white",
            "showbackground": true,
            "ticks": "",
            "zerolinecolor": "white"
           },
           "zaxis": {
            "backgroundcolor": "#E5ECF6",
            "gridcolor": "white",
            "gridwidth": 2,
            "linecolor": "white",
            "showbackground": true,
            "ticks": "",
            "zerolinecolor": "white"
           }
          },
          "shapedefaults": {
           "line": {
            "color": "#2a3f5f"
           }
          },
          "ternary": {
           "aaxis": {
            "gridcolor": "white",
            "linecolor": "white",
            "ticks": ""
           },
           "baxis": {
            "gridcolor": "white",
            "linecolor": "white",
            "ticks": ""
           },
           "bgcolor": "#E5ECF6",
           "caxis": {
            "gridcolor": "white",
            "linecolor": "white",
            "ticks": ""
           }
          },
          "title": {
           "x": 0.05
          },
          "xaxis": {
           "automargin": true,
           "gridcolor": "white",
           "linecolor": "white",
           "ticks": "",
           "title": {
            "standoff": 15
           },
           "zerolinecolor": "white",
           "zerolinewidth": 2
          },
          "yaxis": {
           "automargin": true,
           "gridcolor": "white",
           "linecolor": "white",
           "ticks": "",
           "title": {
            "standoff": 15
           },
           "zerolinecolor": "white",
           "zerolinewidth": 2
          }
         }
        },
        "title": {
         "text": "2D Side View of Pose Keypoints with Skeleton"
        },
        "width": 800,
        "xaxis": {
         "title": {
          "text": "Y"
         }
        },
        "yaxis": {
         "title": {
          "text": "Z"
         }
        }
       }
      }
     },
     "metadata": {},
     "output_type": "display_data"
    }
   ],
   "source": [
    "# Instead of setting X to 0, we'll just use Y and Z coordinates\n",
    "to_visualize_keypoints = rotated_keypoints\n",
    "\n",
    "# Create figure (using go.Figure instead of 3D)\n",
    "fig = go.Figure()\n",
    "\n",
    "# Add points (using Scatter instead of Scatter3d)\n",
    "fig.add_trace(go.Scatter(\n",
    "    x=to_visualize_keypoints[:, 1],  # Y coordinates\n",
    "    y=to_visualize_keypoints[:, 2],  # Z coordinates\n",
    "    mode='markers+text',\n",
    "    marker=dict(\n",
    "        size=8,\n",
    "        color=keypoints[:, 2],\n",
    "        colorscale='Viridis',\n",
    "        showscale=True\n",
    "    ),\n",
    "    text=[f'({keypoints_names[i]})' for i, name in enumerate(to_visualize_keypoints)],\n",
    "    hovertemplate='<b>%{text}</b><br>' +\n",
    "                  'y: %{x:.3f}<br>' +  # Note: x in the plot is y-coordinate\n",
    "                  'z: %{y:.3f}<br>',   # Note: y in the plot is z-coordinate\n",
    "    name='Keypoints'\n",
    "))\n",
    "\n",
    "# Add lines for skeleton (using Scatter instead of Scatter3d)\n",
    "for connection in skeleton_connections:\n",
    "    start_idx, end_idx = connection\n",
    "    fig.add_trace(go.Scatter(\n",
    "        x=[to_visualize_keypoints[start_idx][1], to_visualize_keypoints[end_idx][1]],  # Y coordinates\n",
    "        y=[to_visualize_keypoints[start_idx][2], to_visualize_keypoints[end_idx][2]],  # Z coordinates\n",
    "        mode='lines',\n",
    "        line=dict(color='gray', width=2),\n",
    "        hoverinfo='skip',\n",
    "        showlegend=False\n",
    "    ))\n",
    "\n",
    "# Update layout for 2D\n",
    "fig.update_layout(\n",
    "    title='2D Side View of Pose Keypoints with Skeleton',\n",
    "    xaxis_title='Y',\n",
    "    yaxis_title='Z',\n",
    "    width=800,\n",
    "    height=800\n",
    ")\n",
    "\n",
    "# Show the plot\n",
    "fig.show()"
   ]
  },
  {
   "cell_type": "markdown",
   "metadata": {},
   "source": [
    "### Calculating RULA Angels "
   ]
  },
  {
   "cell_type": "code",
   "execution_count": 28,
   "metadata": {},
   "outputs": [],
   "source": [
    "def calc_angle(keypoint_1, keypoint_center, keypoint_2):\n",
    "    vector_1 = keypoint_1 - keypoint_center\n",
    "    vector_2 = keypoint_2 - keypoint_center\n",
    "    \n",
    "    # calculate the angle using arctan for robustness\n",
    "    # angle = np.arctan2(vector_1[1], vector_1[0]) - np.arctan2(vector_2[1], vector_2[0])\n",
    "    # print(\"Vector1 Arctan(1-c): \", np.degrees(np.arctan2(vector_1[1], vector_1[0])))\n",
    "    # print(\"Vector2 Arctan(c-2): \", np.degrees(np.arctan2(vector_2[1], vector_2[0])))\n",
    "    \n",
    "    # calculate the angle using arccos just to try it out\n",
    "    angle = np.arccos(np.dot(vector_1, vector_2) / (np.linalg.norm(vector_1) * np.linalg.norm(vector_2)))\n",
    "    \n",
    "    # convert the angle to degrees\n",
    "    angle = np.degrees(angle)\n",
    "\n",
    "    return angle\n",
    "\n",
    "def calc_angle_cos(keypoint_1, keypoint_center, keypoint_2):\n",
    "    vector_1 = keypoint_1 - keypoint_center\n",
    "    vector_2 = keypoint_2 - keypoint_center\n",
    "    \n",
    "    # calculate the angle using arctan for robustness\n",
    "    # angle = np.arctan2(vector_1[1], vector_1[0]) - np.arctan2(vector_2[1], vector_2[0])\n",
    "    \n",
    "    # calculate the angle using arccos just to try it out\n",
    "    angle = np.arccos(np.dot(vector_1, vector_2) / (np.linalg.norm(vector_1) * np.linalg.norm(vector_2)))\n",
    "    \n",
    "    # convert the angle to degrees\n",
    "    angle = np.degrees(angle)\n",
    "\n",
    "    return angle\n",
    "\n",
    "\n",
    "side_view_keypoints = rotated_keypoints[:, 1:].copy()\n",
    "\n",
    "# right_elbow_coords = side_view_keypoints[keypoints_names.index('right_elbow')].copy()\n",
    "# right_shoulder_coords = side_view_keypoints[keypoints_names.index('right_shoulder')].copy()\n",
    "# center_torso_coords = side_view_keypoints[keypoints_names.index('center_torso')].copy()\n",
    "\n",
    "# calc_angle(right_elbow_coords, right_shoulder_coords, center_torso_coords)\n",
    "\n"
   ]
  },
  {
   "cell_type": "code",
   "execution_count": 44,
   "metadata": {},
   "outputs": [
    {
     "name": "stdout",
     "output_type": "stream",
     "text": [
      "6.039615932914558\n"
     ]
    }
   ],
   "source": [
    "def get_neck_angle(keypoints): \n",
    "    point1 = keypoints[keypoints_names.index('center_torso')]\n",
    "    point2 = keypoints[keypoints_names.index('upper_torso')]\n",
    "    point3 = keypoints[keypoints_names.index('center_head')] \n",
    "    return 180 - calc_angle(point1, point2, point3)\n",
    "\n",
    "def get_neck_angle_cos(keypoints): \n",
    "    point1 = keypoints[keypoints_names.index('upper_torso')]\n",
    "    point2 = keypoints[keypoints_names.index('neck_base')]\n",
    "    point3 = keypoints[keypoints_names.index('center_head')] \n",
    "    return calc_angle_cos(point1, point2, point3)\n",
    "\n",
    "print(get_neck_angle(side_view_keypoints))\n",
    "# print(get_neck_angle_cos(side_view_keypoints))\n"
   ]
  },
  {
   "cell_type": "code",
   "execution_count": 30,
   "metadata": {},
   "outputs": [
    {
     "name": "stdout",
     "output_type": "stream",
     "text": [
      "Upper Torso:  [-0.53571337 -0.07428499  1.1264447 ]\n",
      "Neck Base:  [-0.80474246 -0.10607752  1.19057083]\n",
      "Center Head:  [-0.80988669 -0.1186562   1.24697387]\n"
     ]
    }
   ],
   "source": [
    "point1 = keypoints[keypoints_names.index('upper_torso')]\n",
    "point2 = keypoints[keypoints_names.index('neck_base')]\n",
    "point3 = keypoints[keypoints_names.index('center_head')]\n",
    "\n",
    "print(\"Upper Torso: \", point1)\n",
    "print(\"Neck Base: \", point2)\n",
    "print(\"Center Head: \", point3)\n",
    "\n"
   ]
  }
 ],
 "metadata": {
  "kernelspec": {
   "display_name": "base",
   "language": "python",
   "name": "python3"
  },
  "language_info": {
   "codemirror_mode": {
    "name": "ipython",
    "version": 3
   },
   "file_extension": ".py",
   "mimetype": "text/x-python",
   "name": "python",
   "nbconvert_exporter": "python",
   "pygments_lexer": "ipython3",
   "version": "3.10.13"
  }
 },
 "nbformat": 4,
 "nbformat_minor": 2
}
