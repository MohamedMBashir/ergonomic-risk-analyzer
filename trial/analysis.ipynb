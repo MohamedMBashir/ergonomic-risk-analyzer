{
 "cells": [
  {
   "cell_type": "code",
   "execution_count": 67,
   "metadata": {},
   "outputs": [
    {
     "data": {
      "text/plain": [
       "[[-0.0, 0.0, 0.8179692625999451],\n",
       " [0.040941040962934494, -0.1594102680683136, 0.8124692440032959],\n",
       " [-0.32493409514427185, -0.1813235878944397, 0.45961013436317444],\n",
       " [-0.2178007811307907, 0.0032552299089729786, 0.0],\n",
       " [-0.03069116175174713, 0.14929278194904327, 0.8236818909645081],\n",
       " [-0.3356389105319977, 0.27307724952697754, 0.47536134719848633],\n",
       " [-0.24962621927261353, 0.29814285039901733, 0.028932154178619385],\n",
       " [-0.2624133229255676, -0.038346219807863235, 0.9701371192932129],\n",
       " [-0.5357133746147156, -0.07428498566150665, 1.126444697380066],\n",
       " [-0.8047424554824829, -0.10607752203941345, 1.1905708312988281],\n",
       " [-0.8098866939544678, -0.11865619570016861, 1.2469738721847534],\n",
       " [-0.5398093461990356, 0.08987322449684143, 1.1279150247573853],\n",
       " [-0.6351518630981445, 0.13341031968593597, 0.7801660299301147],\n",
       " [-0.8164509534835815, 0.15955890715122223, 0.5260588526725769],\n",
       " [-0.5201144814491272, -0.24108636379241943, 1.1241424083709717],\n",
       " [-0.6209665536880493, -0.24187767505645752, 0.7656158804893494],\n",
       " [-0.825140118598938, -0.1752726286649704, 0.5066332817077637]]"
      ]
     },
     "execution_count": 67,
     "metadata": {},
     "output_type": "execute_result"
    }
   ],
   "source": [
    "lol = {'visualization': [], 'predictions': [[{'keypoints': [[-0.0, 0.0, 0.8179692625999451], [0.040941040962934494, -0.1594102680683136, 0.8124692440032959], [-0.32493409514427185, -0.1813235878944397, 0.45961013436317444], [-0.2178007811307907, 0.0032552299089729786, 0.0], [-0.03069116175174713, 0.14929278194904327, 0.8236818909645081], [-0.3356389105319977, 0.27307724952697754, 0.47536134719848633], [-0.24962621927261353, 0.29814285039901733, 0.028932154178619385], [-0.2624133229255676, -0.038346219807863235, 0.9701371192932129], [-0.5357133746147156, -0.07428498566150665, 1.126444697380066], [-0.8047424554824829, -0.10607752203941345, 1.1905708312988281], [-0.8098866939544678, -0.11865619570016861, 1.2469738721847534], [-0.5398093461990356, 0.08987322449684143, 1.1279150247573853], [-0.6351518630981445, 0.13341031968593597, 0.7801660299301147], [-0.8164509534835815, 0.15955890715122223, 0.5260588526725769], [-0.5201144814491272, -0.24108636379241943, 1.1241424083709717], [-0.6209665536880493, -0.24187767505645752, 0.7656158804893494], [-0.825140118598938, -0.1752726286649704, 0.5066332817077637]], 'keypoint_scores': [1.0, 1.0, 1.0, 1.0, 1.0, 1.0, 1.0, 1.0, 1.0, 1.0, 1.0, 1.0, 1.0, 1.0, 1.0, 1.0, 1.0]}]]}\n",
    "rula_girl = {'visualization': [], 'predictions': [[{'keypoints': [[-0.0, 0.0, 0.6517458558082581], [0.07614172250032425, -0.1081618219614029, 0.6364327669143677], [0.049782346934080124, -0.0027257998008280993, 0.23980078101158142], [0.3146137595176697, 0.1263187825679779, 0.0], [-0.07397143542766571, 0.10070735216140747, 0.6663017868995667], [-0.24149340391159058, -0.03839167580008507, 0.33746349811553955], [-0.03865673765540123, 0.1364823430776596, 0.0161399245262146], [0.09974963217973709, 0.0024693498853594065, 0.8867586851119995], [0.19880396127700806, -0.03764152526855469, 1.1275575160980225], [0.18450647592544556, -0.09529012441635132, 1.3223800659179688], [0.21238988637924194, -0.05458226427435875, 1.3646093606948853], [0.10509240627288818, 0.0737433061003685, 1.1617043018341064], [-0.05830639600753784, 0.17740324139595032, 0.958266019821167], [-0.2155175805091858, 0.1719728261232376, 0.8138850331306458], [0.27859044075012207, -0.1607668250799179, 1.0724601745605469], [0.10511450469493866, -0.25507527589797974, 0.8391019105911255], [-0.13905346393585205, -0.1771010309457779, 0.766766369342804]], 'keypoint_scores': [1.0, 1.0, 1.0, 1.0, 1.0, 1.0, 1.0, 1.0, 1.0, 1.0, 1.0, 1.0, 1.0, 1.0, 1.0, 1.0, 1.0]}]]}\n",
    "lol['predictions'][0][0]['keypoints']"
   ]
  },
  {
   "cell_type": "markdown",
   "metadata": {},
   "source": [
    "## Anslysis"
   ]
  },
  {
   "cell_type": "code",
   "execution_count": 68,
   "metadata": {},
   "outputs": [],
   "source": [
    "keypoints_names = [\n",
    "    'bottom_torso',  # 0\n",
    "    'left_hip',      # 1\n",
    "    'left_knee',     # 2\n",
    "    'left_foot',     # 3\n",
    "    'right_hip',     # 4\n",
    "    'right_knee',    # 5\n",
    "    'right_foot',    # 6\n",
    "    'center_torso',  # 7\n",
    "    'upper_torso',   # 8\n",
    "    'neck_base',     # 9\n",
    "    'center_head',   # 10\n",
    "    'right_shoulder',# 11\n",
    "    'right_elbow',   # 12\n",
    "    'right_hand',    # 13\n",
    "    'left_shoulder', # 14\n",
    "    'left_elbow',    # 15\n",
    "    'left_hand'      # 16\n",
    "]"
   ]
  },
  {
   "cell_type": "code",
   "execution_count": 69,
   "metadata": {},
   "outputs": [
    {
     "data": {
      "application/vnd.plotly.v1+json": {
       "config": {
        "plotlyServerURL": "https://plot.ly"
       },
       "data": [
        {
         "hovertemplate": "<b>%{text}</b><br>x: %{x:.3f}<br>y: %{y:.3f}<br>z: %{z:.3f}<br>",
         "marker": {
          "color": [
           0.8179692625999451,
           0.8124692440032959,
           0.45961013436317444,
           0,
           0.8236818909645081,
           0.47536134719848633,
           0.028932154178619385,
           0.9701371192932129,
           1.126444697380066,
           1.1905708312988281,
           1.2469738721847534,
           1.1279150247573853,
           0.7801660299301147,
           0.5260588526725769,
           1.1241424083709717,
           0.7656158804893494,
           0.5066332817077637
          ],
          "colorscale": [
           [
            0,
            "#440154"
           ],
           [
            0.1111111111111111,
            "#482878"
           ],
           [
            0.2222222222222222,
            "#3e4989"
           ],
           [
            0.3333333333333333,
            "#31688e"
           ],
           [
            0.4444444444444444,
            "#26828e"
           ],
           [
            0.5555555555555556,
            "#1f9e89"
           ],
           [
            0.6666666666666666,
            "#35b779"
           ],
           [
            0.7777777777777778,
            "#6ece58"
           ],
           [
            0.8888888888888888,
            "#b5de2b"
           ],
           [
            1,
            "#fde725"
           ]
          ],
          "showscale": true,
          "size": 8
         },
         "mode": "markers+text",
         "name": "Keypoints",
         "text": [
          "(bottom_torso)",
          "(left_hip)",
          "(left_knee)",
          "(left_foot)",
          "(right_hip)",
          "(right_knee)",
          "(right_foot)",
          "(center_torso)",
          "(upper_torso)",
          "(neck_base)",
          "(center_head)",
          "(right_shoulder)",
          "(right_elbow)",
          "(right_hand)",
          "(left_shoulder)",
          "(left_elbow)",
          "(left_hand)"
         ],
         "type": "scatter3d",
         "x": [
          0,
          0.07614172250032425,
          0.049782346934080124,
          0.3146137595176697,
          -0.07397143542766571,
          -0.24149340391159058,
          -0.03865673765540123,
          0.09974963217973709,
          0.19880396127700806,
          0.18450647592544556,
          0.21238988637924194,
          0.10509240627288818,
          -0.05830639600753784,
          -0.2155175805091858,
          0.27859044075012207,
          0.10511450469493866,
          -0.13905346393585205
         ],
         "y": [
          0,
          -0.1081618219614029,
          -0.0027257998008280993,
          0.1263187825679779,
          0.10070735216140747,
          -0.03839167580008507,
          0.1364823430776596,
          0.0024693498853594065,
          -0.03764152526855469,
          -0.09529012441635132,
          -0.05458226427435875,
          0.0737433061003685,
          0.17740324139595032,
          0.1719728261232376,
          -0.1607668250799179,
          -0.25507527589797974,
          -0.1771010309457779
         ],
         "z": [
          0.6517458558082581,
          0.6364327669143677,
          0.23980078101158142,
          0,
          0.6663017868995667,
          0.33746349811553955,
          0.0161399245262146,
          0.8867586851119995,
          1.1275575160980225,
          1.3223800659179688,
          1.3646093606948853,
          1.1617043018341064,
          0.958266019821167,
          0.8138850331306458,
          1.0724601745605469,
          0.8391019105911255,
          0.766766369342804
         ]
        },
        {
         "hoverinfo": "skip",
         "line": {
          "color": "gray",
          "width": 2
         },
         "mode": "lines",
         "showlegend": false,
         "type": "scatter3d",
         "x": [
          0,
          0.09974963217973709
         ],
         "y": [
          0,
          0.0024693498853594065
         ],
         "z": [
          0.6517458558082581,
          0.8867586851119995
         ]
        },
        {
         "hoverinfo": "skip",
         "line": {
          "color": "gray",
          "width": 2
         },
         "mode": "lines",
         "showlegend": false,
         "type": "scatter3d",
         "x": [
          0.09974963217973709,
          0.19880396127700806
         ],
         "y": [
          0.0024693498853594065,
          -0.03764152526855469
         ],
         "z": [
          0.8867586851119995,
          1.1275575160980225
         ]
        },
        {
         "hoverinfo": "skip",
         "line": {
          "color": "gray",
          "width": 2
         },
         "mode": "lines",
         "showlegend": false,
         "type": "scatter3d",
         "x": [
          0.19880396127700806,
          0.18450647592544556
         ],
         "y": [
          -0.03764152526855469,
          -0.09529012441635132
         ],
         "z": [
          1.1275575160980225,
          1.3223800659179688
         ]
        },
        {
         "hoverinfo": "skip",
         "line": {
          "color": "gray",
          "width": 2
         },
         "mode": "lines",
         "showlegend": false,
         "type": "scatter3d",
         "x": [
          0.18450647592544556,
          0.21238988637924194
         ],
         "y": [
          -0.09529012441635132,
          -0.05458226427435875
         ],
         "z": [
          1.3223800659179688,
          1.3646093606948853
         ]
        },
        {
         "hoverinfo": "skip",
         "line": {
          "color": "gray",
          "width": 2
         },
         "mode": "lines",
         "showlegend": false,
         "type": "scatter3d",
         "x": [
          0,
          0.07614172250032425
         ],
         "y": [
          0,
          -0.1081618219614029
         ],
         "z": [
          0.6517458558082581,
          0.6364327669143677
         ]
        },
        {
         "hoverinfo": "skip",
         "line": {
          "color": "gray",
          "width": 2
         },
         "mode": "lines",
         "showlegend": false,
         "type": "scatter3d",
         "x": [
          0.07614172250032425,
          0.049782346934080124
         ],
         "y": [
          -0.1081618219614029,
          -0.0027257998008280993
         ],
         "z": [
          0.6364327669143677,
          0.23980078101158142
         ]
        },
        {
         "hoverinfo": "skip",
         "line": {
          "color": "gray",
          "width": 2
         },
         "mode": "lines",
         "showlegend": false,
         "type": "scatter3d",
         "x": [
          0.049782346934080124,
          0.3146137595176697
         ],
         "y": [
          -0.0027257998008280993,
          0.1263187825679779
         ],
         "z": [
          0.23980078101158142,
          0
         ]
        },
        {
         "hoverinfo": "skip",
         "line": {
          "color": "gray",
          "width": 2
         },
         "mode": "lines",
         "showlegend": false,
         "type": "scatter3d",
         "x": [
          0,
          -0.07397143542766571
         ],
         "y": [
          0,
          0.10070735216140747
         ],
         "z": [
          0.6517458558082581,
          0.6663017868995667
         ]
        },
        {
         "hoverinfo": "skip",
         "line": {
          "color": "gray",
          "width": 2
         },
         "mode": "lines",
         "showlegend": false,
         "type": "scatter3d",
         "x": [
          -0.07397143542766571,
          -0.24149340391159058
         ],
         "y": [
          0.10070735216140747,
          -0.03839167580008507
         ],
         "z": [
          0.6663017868995667,
          0.33746349811553955
         ]
        },
        {
         "hoverinfo": "skip",
         "line": {
          "color": "gray",
          "width": 2
         },
         "mode": "lines",
         "showlegend": false,
         "type": "scatter3d",
         "x": [
          -0.24149340391159058,
          -0.03865673765540123
         ],
         "y": [
          -0.03839167580008507,
          0.1364823430776596
         ],
         "z": [
          0.33746349811553955,
          0.0161399245262146
         ]
        },
        {
         "hoverinfo": "skip",
         "line": {
          "color": "gray",
          "width": 2
         },
         "mode": "lines",
         "showlegend": false,
         "type": "scatter3d",
         "x": [
          0.19880396127700806,
          0.27859044075012207
         ],
         "y": [
          -0.03764152526855469,
          -0.1607668250799179
         ],
         "z": [
          1.1275575160980225,
          1.0724601745605469
         ]
        },
        {
         "hoverinfo": "skip",
         "line": {
          "color": "gray",
          "width": 2
         },
         "mode": "lines",
         "showlegend": false,
         "type": "scatter3d",
         "x": [
          0.27859044075012207,
          0.10511450469493866
         ],
         "y": [
          -0.1607668250799179,
          -0.25507527589797974
         ],
         "z": [
          1.0724601745605469,
          0.8391019105911255
         ]
        },
        {
         "hoverinfo": "skip",
         "line": {
          "color": "gray",
          "width": 2
         },
         "mode": "lines",
         "showlegend": false,
         "type": "scatter3d",
         "x": [
          0.10511450469493866,
          -0.13905346393585205
         ],
         "y": [
          -0.25507527589797974,
          -0.1771010309457779
         ],
         "z": [
          0.8391019105911255,
          0.766766369342804
         ]
        },
        {
         "hoverinfo": "skip",
         "line": {
          "color": "gray",
          "width": 2
         },
         "mode": "lines",
         "showlegend": false,
         "type": "scatter3d",
         "x": [
          0.19880396127700806,
          0.10509240627288818
         ],
         "y": [
          -0.03764152526855469,
          0.0737433061003685
         ],
         "z": [
          1.1275575160980225,
          1.1617043018341064
         ]
        },
        {
         "hoverinfo": "skip",
         "line": {
          "color": "gray",
          "width": 2
         },
         "mode": "lines",
         "showlegend": false,
         "type": "scatter3d",
         "x": [
          0.10509240627288818,
          -0.05830639600753784
         ],
         "y": [
          0.0737433061003685,
          0.17740324139595032
         ],
         "z": [
          1.1617043018341064,
          0.958266019821167
         ]
        },
        {
         "hoverinfo": "skip",
         "line": {
          "color": "gray",
          "width": 2
         },
         "mode": "lines",
         "showlegend": false,
         "type": "scatter3d",
         "x": [
          -0.05830639600753784,
          -0.2155175805091858
         ],
         "y": [
          0.17740324139595032,
          0.1719728261232376
         ],
         "z": [
          0.958266019821167,
          0.8138850331306458
         ]
        }
       ],
       "layout": {
        "height": 800,
        "scene": {
         "aspectmode": "data",
         "xaxis": {
          "title": {
           "text": "X"
          }
         },
         "yaxis": {
          "title": {
           "text": "Y"
          }
         },
         "zaxis": {
          "title": {
           "text": "Z"
          }
         }
        },
        "template": {
         "data": {
          "bar": [
           {
            "error_x": {
             "color": "#2a3f5f"
            },
            "error_y": {
             "color": "#2a3f5f"
            },
            "marker": {
             "line": {
              "color": "#E5ECF6",
              "width": 0.5
             },
             "pattern": {
              "fillmode": "overlay",
              "size": 10,
              "solidity": 0.2
             }
            },
            "type": "bar"
           }
          ],
          "barpolar": [
           {
            "marker": {
             "line": {
              "color": "#E5ECF6",
              "width": 0.5
             },
             "pattern": {
              "fillmode": "overlay",
              "size": 10,
              "solidity": 0.2
             }
            },
            "type": "barpolar"
           }
          ],
          "carpet": [
           {
            "aaxis": {
             "endlinecolor": "#2a3f5f",
             "gridcolor": "white",
             "linecolor": "white",
             "minorgridcolor": "white",
             "startlinecolor": "#2a3f5f"
            },
            "baxis": {
             "endlinecolor": "#2a3f5f",
             "gridcolor": "white",
             "linecolor": "white",
             "minorgridcolor": "white",
             "startlinecolor": "#2a3f5f"
            },
            "type": "carpet"
           }
          ],
          "choropleth": [
           {
            "colorbar": {
             "outlinewidth": 0,
             "ticks": ""
            },
            "type": "choropleth"
           }
          ],
          "contour": [
           {
            "colorbar": {
             "outlinewidth": 0,
             "ticks": ""
            },
            "colorscale": [
             [
              0,
              "#0d0887"
             ],
             [
              0.1111111111111111,
              "#46039f"
             ],
             [
              0.2222222222222222,
              "#7201a8"
             ],
             [
              0.3333333333333333,
              "#9c179e"
             ],
             [
              0.4444444444444444,
              "#bd3786"
             ],
             [
              0.5555555555555556,
              "#d8576b"
             ],
             [
              0.6666666666666666,
              "#ed7953"
             ],
             [
              0.7777777777777778,
              "#fb9f3a"
             ],
             [
              0.8888888888888888,
              "#fdca26"
             ],
             [
              1,
              "#f0f921"
             ]
            ],
            "type": "contour"
           }
          ],
          "contourcarpet": [
           {
            "colorbar": {
             "outlinewidth": 0,
             "ticks": ""
            },
            "type": "contourcarpet"
           }
          ],
          "heatmap": [
           {
            "colorbar": {
             "outlinewidth": 0,
             "ticks": ""
            },
            "colorscale": [
             [
              0,
              "#0d0887"
             ],
             [
              0.1111111111111111,
              "#46039f"
             ],
             [
              0.2222222222222222,
              "#7201a8"
             ],
             [
              0.3333333333333333,
              "#9c179e"
             ],
             [
              0.4444444444444444,
              "#bd3786"
             ],
             [
              0.5555555555555556,
              "#d8576b"
             ],
             [
              0.6666666666666666,
              "#ed7953"
             ],
             [
              0.7777777777777778,
              "#fb9f3a"
             ],
             [
              0.8888888888888888,
              "#fdca26"
             ],
             [
              1,
              "#f0f921"
             ]
            ],
            "type": "heatmap"
           }
          ],
          "heatmapgl": [
           {
            "colorbar": {
             "outlinewidth": 0,
             "ticks": ""
            },
            "colorscale": [
             [
              0,
              "#0d0887"
             ],
             [
              0.1111111111111111,
              "#46039f"
             ],
             [
              0.2222222222222222,
              "#7201a8"
             ],
             [
              0.3333333333333333,
              "#9c179e"
             ],
             [
              0.4444444444444444,
              "#bd3786"
             ],
             [
              0.5555555555555556,
              "#d8576b"
             ],
             [
              0.6666666666666666,
              "#ed7953"
             ],
             [
              0.7777777777777778,
              "#fb9f3a"
             ],
             [
              0.8888888888888888,
              "#fdca26"
             ],
             [
              1,
              "#f0f921"
             ]
            ],
            "type": "heatmapgl"
           }
          ],
          "histogram": [
           {
            "marker": {
             "pattern": {
              "fillmode": "overlay",
              "size": 10,
              "solidity": 0.2
             }
            },
            "type": "histogram"
           }
          ],
          "histogram2d": [
           {
            "colorbar": {
             "outlinewidth": 0,
             "ticks": ""
            },
            "colorscale": [
             [
              0,
              "#0d0887"
             ],
             [
              0.1111111111111111,
              "#46039f"
             ],
             [
              0.2222222222222222,
              "#7201a8"
             ],
             [
              0.3333333333333333,
              "#9c179e"
             ],
             [
              0.4444444444444444,
              "#bd3786"
             ],
             [
              0.5555555555555556,
              "#d8576b"
             ],
             [
              0.6666666666666666,
              "#ed7953"
             ],
             [
              0.7777777777777778,
              "#fb9f3a"
             ],
             [
              0.8888888888888888,
              "#fdca26"
             ],
             [
              1,
              "#f0f921"
             ]
            ],
            "type": "histogram2d"
           }
          ],
          "histogram2dcontour": [
           {
            "colorbar": {
             "outlinewidth": 0,
             "ticks": ""
            },
            "colorscale": [
             [
              0,
              "#0d0887"
             ],
             [
              0.1111111111111111,
              "#46039f"
             ],
             [
              0.2222222222222222,
              "#7201a8"
             ],
             [
              0.3333333333333333,
              "#9c179e"
             ],
             [
              0.4444444444444444,
              "#bd3786"
             ],
             [
              0.5555555555555556,
              "#d8576b"
             ],
             [
              0.6666666666666666,
              "#ed7953"
             ],
             [
              0.7777777777777778,
              "#fb9f3a"
             ],
             [
              0.8888888888888888,
              "#fdca26"
             ],
             [
              1,
              "#f0f921"
             ]
            ],
            "type": "histogram2dcontour"
           }
          ],
          "mesh3d": [
           {
            "colorbar": {
             "outlinewidth": 0,
             "ticks": ""
            },
            "type": "mesh3d"
           }
          ],
          "parcoords": [
           {
            "line": {
             "colorbar": {
              "outlinewidth": 0,
              "ticks": ""
             }
            },
            "type": "parcoords"
           }
          ],
          "pie": [
           {
            "automargin": true,
            "type": "pie"
           }
          ],
          "scatter": [
           {
            "fillpattern": {
             "fillmode": "overlay",
             "size": 10,
             "solidity": 0.2
            },
            "type": "scatter"
           }
          ],
          "scatter3d": [
           {
            "line": {
             "colorbar": {
              "outlinewidth": 0,
              "ticks": ""
             }
            },
            "marker": {
             "colorbar": {
              "outlinewidth": 0,
              "ticks": ""
             }
            },
            "type": "scatter3d"
           }
          ],
          "scattercarpet": [
           {
            "marker": {
             "colorbar": {
              "outlinewidth": 0,
              "ticks": ""
             }
            },
            "type": "scattercarpet"
           }
          ],
          "scattergeo": [
           {
            "marker": {
             "colorbar": {
              "outlinewidth": 0,
              "ticks": ""
             }
            },
            "type": "scattergeo"
           }
          ],
          "scattergl": [
           {
            "marker": {
             "colorbar": {
              "outlinewidth": 0,
              "ticks": ""
             }
            },
            "type": "scattergl"
           }
          ],
          "scattermapbox": [
           {
            "marker": {
             "colorbar": {
              "outlinewidth": 0,
              "ticks": ""
             }
            },
            "type": "scattermapbox"
           }
          ],
          "scatterpolar": [
           {
            "marker": {
             "colorbar": {
              "outlinewidth": 0,
              "ticks": ""
             }
            },
            "type": "scatterpolar"
           }
          ],
          "scatterpolargl": [
           {
            "marker": {
             "colorbar": {
              "outlinewidth": 0,
              "ticks": ""
             }
            },
            "type": "scatterpolargl"
           }
          ],
          "scatterternary": [
           {
            "marker": {
             "colorbar": {
              "outlinewidth": 0,
              "ticks": ""
             }
            },
            "type": "scatterternary"
           }
          ],
          "surface": [
           {
            "colorbar": {
             "outlinewidth": 0,
             "ticks": ""
            },
            "colorscale": [
             [
              0,
              "#0d0887"
             ],
             [
              0.1111111111111111,
              "#46039f"
             ],
             [
              0.2222222222222222,
              "#7201a8"
             ],
             [
              0.3333333333333333,
              "#9c179e"
             ],
             [
              0.4444444444444444,
              "#bd3786"
             ],
             [
              0.5555555555555556,
              "#d8576b"
             ],
             [
              0.6666666666666666,
              "#ed7953"
             ],
             [
              0.7777777777777778,
              "#fb9f3a"
             ],
             [
              0.8888888888888888,
              "#fdca26"
             ],
             [
              1,
              "#f0f921"
             ]
            ],
            "type": "surface"
           }
          ],
          "table": [
           {
            "cells": {
             "fill": {
              "color": "#EBF0F8"
             },
             "line": {
              "color": "white"
             }
            },
            "header": {
             "fill": {
              "color": "#C8D4E3"
             },
             "line": {
              "color": "white"
             }
            },
            "type": "table"
           }
          ]
         },
         "layout": {
          "annotationdefaults": {
           "arrowcolor": "#2a3f5f",
           "arrowhead": 0,
           "arrowwidth": 1
          },
          "autotypenumbers": "strict",
          "coloraxis": {
           "colorbar": {
            "outlinewidth": 0,
            "ticks": ""
           }
          },
          "colorscale": {
           "diverging": [
            [
             0,
             "#8e0152"
            ],
            [
             0.1,
             "#c51b7d"
            ],
            [
             0.2,
             "#de77ae"
            ],
            [
             0.3,
             "#f1b6da"
            ],
            [
             0.4,
             "#fde0ef"
            ],
            [
             0.5,
             "#f7f7f7"
            ],
            [
             0.6,
             "#e6f5d0"
            ],
            [
             0.7,
             "#b8e186"
            ],
            [
             0.8,
             "#7fbc41"
            ],
            [
             0.9,
             "#4d9221"
            ],
            [
             1,
             "#276419"
            ]
           ],
           "sequential": [
            [
             0,
             "#0d0887"
            ],
            [
             0.1111111111111111,
             "#46039f"
            ],
            [
             0.2222222222222222,
             "#7201a8"
            ],
            [
             0.3333333333333333,
             "#9c179e"
            ],
            [
             0.4444444444444444,
             "#bd3786"
            ],
            [
             0.5555555555555556,
             "#d8576b"
            ],
            [
             0.6666666666666666,
             "#ed7953"
            ],
            [
             0.7777777777777778,
             "#fb9f3a"
            ],
            [
             0.8888888888888888,
             "#fdca26"
            ],
            [
             1,
             "#f0f921"
            ]
           ],
           "sequentialminus": [
            [
             0,
             "#0d0887"
            ],
            [
             0.1111111111111111,
             "#46039f"
            ],
            [
             0.2222222222222222,
             "#7201a8"
            ],
            [
             0.3333333333333333,
             "#9c179e"
            ],
            [
             0.4444444444444444,
             "#bd3786"
            ],
            [
             0.5555555555555556,
             "#d8576b"
            ],
            [
             0.6666666666666666,
             "#ed7953"
            ],
            [
             0.7777777777777778,
             "#fb9f3a"
            ],
            [
             0.8888888888888888,
             "#fdca26"
            ],
            [
             1,
             "#f0f921"
            ]
           ]
          },
          "colorway": [
           "#636efa",
           "#EF553B",
           "#00cc96",
           "#ab63fa",
           "#FFA15A",
           "#19d3f3",
           "#FF6692",
           "#B6E880",
           "#FF97FF",
           "#FECB52"
          ],
          "font": {
           "color": "#2a3f5f"
          },
          "geo": {
           "bgcolor": "white",
           "lakecolor": "white",
           "landcolor": "#E5ECF6",
           "showlakes": true,
           "showland": true,
           "subunitcolor": "white"
          },
          "hoverlabel": {
           "align": "left"
          },
          "hovermode": "closest",
          "mapbox": {
           "style": "light"
          },
          "paper_bgcolor": "white",
          "plot_bgcolor": "#E5ECF6",
          "polar": {
           "angularaxis": {
            "gridcolor": "white",
            "linecolor": "white",
            "ticks": ""
           },
           "bgcolor": "#E5ECF6",
           "radialaxis": {
            "gridcolor": "white",
            "linecolor": "white",
            "ticks": ""
           }
          },
          "scene": {
           "xaxis": {
            "backgroundcolor": "#E5ECF6",
            "gridcolor": "white",
            "gridwidth": 2,
            "linecolor": "white",
            "showbackground": true,
            "ticks": "",
            "zerolinecolor": "white"
           },
           "yaxis": {
            "backgroundcolor": "#E5ECF6",
            "gridcolor": "white",
            "gridwidth": 2,
            "linecolor": "white",
            "showbackground": true,
            "ticks": "",
            "zerolinecolor": "white"
           },
           "zaxis": {
            "backgroundcolor": "#E5ECF6",
            "gridcolor": "white",
            "gridwidth": 2,
            "linecolor": "white",
            "showbackground": true,
            "ticks": "",
            "zerolinecolor": "white"
           }
          },
          "shapedefaults": {
           "line": {
            "color": "#2a3f5f"
           }
          },
          "ternary": {
           "aaxis": {
            "gridcolor": "white",
            "linecolor": "white",
            "ticks": ""
           },
           "baxis": {
            "gridcolor": "white",
            "linecolor": "white",
            "ticks": ""
           },
           "bgcolor": "#E5ECF6",
           "caxis": {
            "gridcolor": "white",
            "linecolor": "white",
            "ticks": ""
           }
          },
          "title": {
           "x": 0.05
          },
          "xaxis": {
           "automargin": true,
           "gridcolor": "white",
           "linecolor": "white",
           "ticks": "",
           "title": {
            "standoff": 15
           },
           "zerolinecolor": "white",
           "zerolinewidth": 2
          },
          "yaxis": {
           "automargin": true,
           "gridcolor": "white",
           "linecolor": "white",
           "ticks": "",
           "title": {
            "standoff": 15
           },
           "zerolinecolor": "white",
           "zerolinewidth": 2
          }
         }
        },
        "title": {
         "text": "3D Pose Keypoints with Skeleton"
        },
        "width": 800
       }
      }
     },
     "metadata": {},
     "output_type": "display_data"
    }
   ],
   "source": [
    "import plotly.graph_objects as go\n",
    "import numpy as np\n",
    "\n",
    "# Extract keypoints\n",
    "keypoints = rula_girl['predictions'][0][0]['keypoints']\n",
    "keypoints = np.array(keypoints)\n",
    "\n",
    "# Define the connections for the skeleton\n",
    "# Each tuple represents (start_point_idx, end_point_idx)\n",
    "skeleton_connections = [\n",
    "    # Torso\n",
    "    (0, 7),  # bottom_torso to center_torso\n",
    "    (7, 8),  # center_torso to upper_torso\n",
    "    (8, 9),  # upper_torso to neck_base\n",
    "    (9, 10), # neck_base to center_head\n",
    "    \n",
    "    # Left leg\n",
    "    (0, 1),  # bottom_torso to left_hip\n",
    "    (1, 2),  # left_hip to left_knee\n",
    "    (2, 3),  # left_knee to left_foot\n",
    "    \n",
    "    # Right leg\n",
    "    (0, 4),  # bottom_torso to right_hip\n",
    "    (4, 5),  # right_hip to right_knee\n",
    "    (5, 6),  # right_knee to right_foot\n",
    "    \n",
    "    # Left arm\n",
    "    (8, 14), # upper_torso to left_shoulder\n",
    "    (14, 15),# left_shoulder to left_elbow\n",
    "    (15, 16),# left_elbow to left_hand\n",
    "    \n",
    "    # Right arm\n",
    "    (8, 11), # upper_torso to right_shoulder\n",
    "    (11, 12),# right_shoulder to right_elbow\n",
    "    (12, 13), # right_elbow to right_hand\n",
    "    \n",
    "]\n",
    "\n",
    "# Create figure\n",
    "fig = go.Figure()\n",
    "\n",
    "# Add points\n",
    "fig.add_trace(go.Scatter3d(\n",
    "    x=keypoints[:, 0],\n",
    "    y=keypoints[:, 1],\n",
    "    z=keypoints[:, 2],\n",
    "    mode='markers+text',\n",
    "    marker=dict(\n",
    "        size=8,\n",
    "        color=z,\n",
    "        colorscale='Viridis',\n",
    "        showscale=True\n",
    "    ),\n",
    "    text=[f'({keypoints_names[i]})' for i, name in enumerate(keypoints)],\n",
    "    hovertemplate='<b>%{text}</b><br>' +\n",
    "                  'x: %{x:.3f}<br>' +\n",
    "                  'y: %{y:.3f}<br>' +\n",
    "                  'z: %{z:.3f}<br>'\n",
    "                  ,\n",
    "    name='Keypoints'\n",
    "))\n",
    "\n",
    "# Add lines for skeleton\n",
    "for connection in skeleton_connections:\n",
    "    start_idx, end_idx = connection\n",
    "    fig.add_trace(go.Scatter3d(\n",
    "        x=[keypoints[start_idx][0], keypoints[end_idx][0]],\n",
    "        y=[keypoints[start_idx][1], keypoints[end_idx][1]],\n",
    "        z=[keypoints[start_idx][2], keypoints[end_idx][2]],\n",
    "        mode='lines',\n",
    "        line=dict(color='gray', width=2),\n",
    "        hoverinfo='skip',\n",
    "        showlegend=False\n",
    "    ))\n",
    "\n",
    "# Update layout\n",
    "fig.update_layout(\n",
    "    title='3D Pose Keypoints with Skeleton',\n",
    "    scene=dict(\n",
    "        xaxis_title = 'X',#'X',\n",
    "        yaxis_title = 'Y',#'Z',\n",
    "        zaxis_title = 'Z',#'Y',\n",
    "        aspectmode='data'\n",
    "    ),\n",
    "    width=800,\n",
    "    height=800\n",
    ")\n",
    "\n",
    "# Show the plot\n",
    "fig.show()"
   ]
  },
  {
   "cell_type": "markdown",
   "metadata": {},
   "source": [
    "### Calculate Angle in 3d (angles between vectors)"
   ]
  },
  {
   "cell_type": "markdown",
   "metadata": {},
   "source": [
    "#### 1. Side Angle of center_torso, upper_torso, right_elbow\n"
   ]
  },
  {
   "cell_type": "code",
   "execution_count": 74,
   "metadata": {},
   "outputs": [
    {
     "data": {
      "text/plain": [
       "array([0.09974963, 0.00246935, 0.88675869])"
      ]
     },
     "execution_count": 74,
     "metadata": {},
     "output_type": "execute_result"
    }
   ],
   "source": [
    "# Get the coordinates of the keypoints\n",
    "center_torso_coords = keypoints[keypoints_names.index('center_torso')].copy()\n",
    "upper_torso_coords = keypoints[keypoints_names.index('upper_torso')].copy()\n",
    "right_elbow_coords = keypoints[keypoints_names.index('right_elbow')].copy()\n",
    "\n",
    "# Equalize their Depth coordinate (y-coordinates)\n",
    "# center_torso_coords[1] = upper_torso_coords[1] = right_elbow_coords[1] = 0\n",
    "\n",
    "center_torso_coords"
   ]
  },
  {
   "cell_type": "code",
   "execution_count": 75,
   "metadata": {},
   "outputs": [
    {
     "data": {
      "text/plain": [
       "94.82028538877174"
      ]
     },
     "execution_count": 75,
     "metadata": {},
     "output_type": "execute_result"
    }
   ],
   "source": [
    "# Calculate the angle between the vectors where both vectors have center_torso as the common point\n",
    "\n",
    "def calculate_angle_between_vectors(vector1, vector2):\n",
    "    # Calculate the dot product\n",
    "    dot_product = np.dot(vector1, vector2)\n",
    "    \n",
    "    # Calculate the magnitudes\n",
    "    magnitude_vector1 = np.linalg.norm(vector1)\n",
    "    magnitude_vector2 = np.linalg.norm(vector2)\n",
    "    \n",
    "    # Calculate the angle in radians\n",
    "    angle_radians = np.arccos(dot_product / (magnitude_vector1 * magnitude_vector2))\n",
    "    \n",
    "    # Convert the angle to degrees\n",
    "    angle_degrees = np.degrees(angle_radians)\n",
    "    \n",
    "    return angle_degrees\n",
    "\n",
    "common_point = center_torso_coords\n",
    "vector1 = upper_torso_coords - common_point\n",
    "vector2 = right_elbow_coords - common_point\n",
    "\n",
    "calculate_angle_between_vectors(vector1, vector2)"
   ]
  },
  {
   "cell_type": "markdown",
   "metadata": {},
   "source": [
    "#### 2. Side Angle of left_elbow, upper_torso, right_elbow\n"
   ]
  },
  {
   "cell_type": "code",
   "execution_count": 66,
   "metadata": {},
   "outputs": [
    {
     "data": {
      "text/plain": [
       "2.7286051252314834"
      ]
     },
     "execution_count": 66,
     "metadata": {},
     "output_type": "execute_result"
    }
   ],
   "source": [
    "# Get the coordinates of the keypoints\n",
    "left_elbow_coords = keypoints[keypoints_names.index('left_elbow')].copy()\n",
    "upper_torso_coords = keypoints[keypoints_names.index('upper_torso')].copy()\n",
    "right_elbow_coords = keypoints[keypoints_names.index('right_elbow')].copy()\n",
    "\n",
    "# Equalize their Depth coordinate (y-coordinates)\n",
    "upper_torso_coords[1] = left_elbow_coords[1] = right_elbow_coords[1] = 0\n",
    "\n",
    "common_point = upper_torso_coords\n",
    "vector1 = left_elbow_coords - common_point\n",
    "vector2 = right_elbow_coords - common_point\n",
    "\n",
    "calculate_angle_between_vectors(vector1, vector2)"
   ]
  },
  {
   "cell_type": "code",
   "execution_count": null,
   "metadata": {},
   "outputs": [],
   "source": []
  },
  {
   "cell_type": "code",
   "execution_count": 45,
   "metadata": {},
   "outputs": [
    {
     "data": {
      "image/png": "[encoded data removed]",
      "text/plain": [
       "<Figure size 1000x1000 with 1 Axes>"
      ]
     },
     "metadata": {},
     "output_type": "display_data"
    }
   ],
   "source": [
    "# import sys\n",
    "# sys.path.append(\"..\") # Adds parent directory to Python path\n",
    "# from src.utils.utils import visualize_3d_keypoints\n",
    "# # Example usage:\n",
    "# points = [\n",
    "#     center_torso_coords,\n",
    "#     upper_torso_coords,\n",
    "#     right_elbow_coords\n",
    "# ]\n",
    "\n",
    "# labels = ['center_torso', 'upper_torso', 'right_elbow']\n",
    "\n",
    "# visualize_3d_keypoints(points, labels)"
   ]
  }
 ],
 "metadata": {
  "kernelspec": {
   "display_name": "Python 3",
   "language": "python",
   "name": "python3"
  },
  "language_info": {
   "codemirror_mode": {
    "name": "ipython",
    "version": 3
   },
   "file_extension": ".py",
   "mimetype": "text/x-python",
   "name": "python",
   "nbconvert_exporter": "python",
   "pygments_lexer": "ipython3",
   "version": "3.10.13"
  }
 },
 "nbformat": 4,
 "nbformat_minor": 2
}
